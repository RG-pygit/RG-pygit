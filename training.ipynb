{
  "nbformat": 4,
  "nbformat_minor": 0,
  "metadata": {
    "colab": {
      "name": "Untitled0.ipynb",
      "provenance": [],
      "collapsed_sections": [],
      "authorship_tag": "ABX9TyNP7dEpiewdoOG5KdJH0wg9",
      "include_colab_link": true
    },
    "kernelspec": {
      "name": "python3",
      "display_name": "Python 3"
    },
    "language_info": {
      "name": "python"
    }
  },
  "cells": [
    {
      "cell_type": "markdown",
      "metadata": {
        "id": "view-in-github",
        "colab_type": "text"
      },
      "source": [
        "<a href=\"https://colab.research.google.com/github/RG-pygit/RG-pygit/blob/main/training.ipynb\" target=\"_parent\"><img src=\"https://colab.research.google.com/assets/colab-badge.svg\" alt=\"Open In Colab\"/></a>"
      ]
    },
    {
      "cell_type": "code",
      "execution_count": null,
      "metadata": {
        "colab": {
          "base_uri": "https://localhost:8080/"
        },
        "id": "9QQEP5zV0LyR",
        "outputId": "112a1a27-1485-499f-ac80-c93c794d2db9"
      },
      "outputs": [
        {
          "output_type": "stream",
          "name": "stdout",
          "text": [
            "Looking in indexes: https://pypi.org/simple, https://us-python.pkg.dev/colab-wheels/public/simple/\n",
            "Collecting pymysql\n",
            "  Downloading PyMySQL-1.0.2-py3-none-any.whl (43 kB)\n",
            "\u001b[K     |████████████████████████████████| 43 kB 1.4 MB/s \n",
            "\u001b[?25hInstalling collected packages: pymysql\n",
            "Successfully installed pymysql-1.0.2\n"
          ]
        }
      ],
      "source": [
        "pip install pymysql\n"
      ]
    },
    {
      "cell_type": "code",
      "source": [
        "import pymysql\n"
      ],
      "metadata": {
        "id": "N_GyKTWD0UxE",
        "colab": {
          "base_uri": "https://localhost:8080/",
          "height": 312
        },
        "outputId": "79f8dd92-89b0-435b-97bd-c419d3f7ddec"
      },
      "execution_count": null,
      "outputs": [
        {
          "output_type": "error",
          "ename": "ModuleNotFoundError",
          "evalue": "ignored",
          "traceback": [
            "\u001b[0;31m---------------------------------------------------------------------------\u001b[0m",
            "\u001b[0;31mModuleNotFoundError\u001b[0m                       Traceback (most recent call last)",
            "\u001b[0;32m<ipython-input-1-8748c87b3097>\u001b[0m in \u001b[0;36m<module>\u001b[0;34m()\u001b[0m\n\u001b[0;32m----> 1\u001b[0;31m \u001b[0;32mimport\u001b[0m \u001b[0mpymysql\u001b[0m\u001b[0;34m\u001b[0m\u001b[0;34m\u001b[0m\u001b[0m\n\u001b[0m",
            "\u001b[0;31mModuleNotFoundError\u001b[0m: No module named 'pymysql'",
            "",
            "\u001b[0;31m---------------------------------------------------------------------------\u001b[0;32m\nNOTE: If your import is failing due to a missing package, you can\nmanually install dependencies using either !pip or !apt.\n\nTo view examples of installing some common dependencies, click the\n\"Open Examples\" button below.\n\u001b[0;31m---------------------------------------------------------------------------\u001b[0m\n"
          ],
          "errorDetails": {
            "actions": [
              {
                "action": "open_url",
                "actionText": "Open Examples",
                "url": "/notebooks/snippets/importing_libraries.ipynb"
              }
            ]
          }
        }
      ]
    },
    {
      "cell_type": "code",
      "source": [
        "pip install pymysql"
      ],
      "metadata": {
        "colab": {
          "base_uri": "https://localhost:8080/"
        },
        "id": "9iB-RDcUyAeI",
        "outputId": "12376817-36bc-4e06-d5f2-0b58727df83d"
      },
      "execution_count": null,
      "outputs": [
        {
          "output_type": "stream",
          "name": "stdout",
          "text": [
            "Looking in indexes: https://pypi.org/simple, https://us-python.pkg.dev/colab-wheels/public/simple/\n",
            "Collecting pymysql\n",
            "  Downloading PyMySQL-1.0.2-py3-none-any.whl (43 kB)\n",
            "\u001b[K     |████████████████████████████████| 43 kB 893 kB/s \n",
            "\u001b[?25hInstalling collected packages: pymysql\n",
            "Successfully installed pymysql-1.0.2\n"
          ]
        }
      ]
    },
    {
      "cell_type": "code",
      "source": [
        "import pymysql\n"
      ],
      "metadata": {
        "id": "4cIs0jlIyOKC"
      },
      "execution_count": null,
      "outputs": []
    },
    {
      "cell_type": "code",
      "source": [
        "import numpy as np"
      ],
      "metadata": {
        "id": "otk03UiSySMT"
      },
      "execution_count": null,
      "outputs": []
    },
    {
      "cell_type": "code",
      "source": [
        "x=numpy.array([[1,2,3,4],[5,6,7,8],[9,1,2,3]])\n",
        "print(x)\n",
        "print(x[1,...])\n",
        "print(x[...,2])\n",
        "print(x[...,2:])\n"
      ],
      "metadata": {
        "colab": {
          "base_uri": "https://localhost:8080/"
        },
        "id": "bGTVwaySyXKH",
        "outputId": "25718c92-a687-432a-c3c0-e8c0cfafda7a"
      },
      "execution_count": null,
      "outputs": [
        {
          "output_type": "stream",
          "name": "stdout",
          "text": [
            "[[1 2 3 4]\n",
            " [5 6 7 8]\n",
            " [9 1 2 3]]\n",
            "[5 6 7 8]\n",
            "[3 7 2]\n",
            "[[3 4]\n",
            " [7 8]\n",
            " [2 3]]\n"
          ]
        }
      ]
    },
    {
      "cell_type": "code",
      "source": [
        "y=x.reshape(2,6)\n",
        "print(y)\n",
        "print(x)"
      ],
      "metadata": {
        "colab": {
          "base_uri": "https://localhost:8080/"
        },
        "id": "PwFwNrEPy2TK",
        "outputId": "de2caa57-1935-4aed-c930-0044c0f58bb6"
      },
      "execution_count": null,
      "outputs": [
        {
          "output_type": "stream",
          "name": "stdout",
          "text": [
            "[[1 2 3 4 5 6]\n",
            " [7 8 9 1 2 3]]\n",
            "[[1 2 3 4]\n",
            " [5 6 7 8]\n",
            " [9 1 2 3]]\n"
          ]
        }
      ]
    },
    {
      "cell_type": "code",
      "source": [
        "x.shape=(6,2)"
      ],
      "metadata": {
        "id": "mKqZ4cbYy-KB"
      },
      "execution_count": null,
      "outputs": []
    },
    {
      "cell_type": "code",
      "source": [
        "a=np.arange(2,22,2)\n",
        "a.shape=(5,2)\n",
        "print(a)"
      ],
      "metadata": {
        "colab": {
          "base_uri": "https://localhost:8080/"
        },
        "id": "QawBJjWT0PvV",
        "outputId": "733aae9b-22ef-487b-dd13-82b7d75f43fd"
      },
      "execution_count": null,
      "outputs": [
        {
          "output_type": "stream",
          "name": "stdout",
          "text": [
            "[ 2  4  6  8 10 12 14 16 18 20]\n"
          ]
        }
      ]
    },
    {
      "cell_type": "code",
      "source": [
        "a.shape=(5,2)"
      ],
      "metadata": {
        "id": "bnIfuJmy0hia"
      },
      "execution_count": null,
      "outputs": []
    },
    {
      "cell_type": "code",
      "source": [
        "print(a)"
      ],
      "metadata": {
        "colab": {
          "base_uri": "https://localhost:8080/"
        },
        "id": "1JlVvRos3Khb",
        "outputId": "93af60a8-3ad8-4b69-c869-412ac3d9ade6"
      },
      "execution_count": null,
      "outputs": [
        {
          "output_type": "stream",
          "name": "stdout",
          "text": [
            "[[ 2  4]\n",
            " [ 6  8]\n",
            " [10 12]\n",
            " [14 16]\n",
            " [18 20]]\n"
          ]
        }
      ]
    },
    {
      "cell_type": "code",
      "source": [
        "z=np.zeros((3,4))\n",
        "print(z)"
      ],
      "metadata": {
        "colab": {
          "base_uri": "https://localhost:8080/"
        },
        "id": "QX4KvMkh3LxD",
        "outputId": "189c57ab-7adc-406c-9cf9-c96f2d63d507"
      },
      "execution_count": null,
      "outputs": [
        {
          "output_type": "stream",
          "name": "stdout",
          "text": [
            "[[0. 0. 0. 0.]\n",
            " [0. 0. 0. 0.]\n",
            " [0. 0. 0. 0.]]\n"
          ]
        }
      ]
    },
    {
      "cell_type": "code",
      "source": [
        "z=np.ones((3,4))\n",
        "print(z)"
      ],
      "metadata": {
        "colab": {
          "base_uri": "https://localhost:8080/"
        },
        "id": "_fVbk6HM5LUm",
        "outputId": "7cd3bff5-d99a-4de5-c9b8-5ee145625bcc"
      },
      "execution_count": null,
      "outputs": [
        {
          "output_type": "stream",
          "name": "stdout",
          "text": [
            "[[1. 1. 1. 1.]\n",
            " [1. 1. 1. 1.]\n",
            " [1. 1. 1. 1.]]\n"
          ]
        }
      ]
    },
    {
      "cell_type": "code",
      "source": [
        "c=np.linspace(11,40,9)\n",
        "print(c)"
      ],
      "metadata": {
        "colab": {
          "base_uri": "https://localhost:8080/"
        },
        "id": "tKztD_eu5VlJ",
        "outputId": "346fac50-4a08-4852-acdf-cdb219a4e8e4"
      },
      "execution_count": null,
      "outputs": [
        {
          "output_type": "stream",
          "name": "stdout",
          "text": [
            "[11.    14.625 18.25  21.875 25.5   29.125 32.75  36.375 40.   ]\n"
          ]
        }
      ]
    },
    {
      "cell_type": "code",
      "source": [
        "x=np.array([2,3,4,5,6,7,8])\n",
        "y=slice(2,9,2)\n",
        "print(x[y])"
      ],
      "metadata": {
        "colab": {
          "base_uri": "https://localhost:8080/"
        },
        "id": "eXMMt1U35k4U",
        "outputId": "2b5cee7b-6c4a-48e0-8742-5a39cd1d26fc"
      },
      "execution_count": null,
      "outputs": [
        {
          "output_type": "stream",
          "name": "stdout",
          "text": [
            "[4 6 8]\n"
          ]
        }
      ]
    },
    {
      "cell_type": "code",
      "source": [
        "x=np.array([[6,6,6],[2,2,2],[3,2,5]])\n",
        "y=np.array([[2,3,2],[1,1,2],[2,1,3]])\n",
        "\n",
        " \n",
        "print(x,y)\n",
        "print(x+y)\n",
        "print(x-y)\n",
        "print(x*y)\n",
        "print(x/y)\n",
        "print(x%y)\n",
        " "
      ],
      "metadata": {
        "colab": {
          "base_uri": "https://localhost:8080/"
        },
        "id": "IawsiFej61UK",
        "outputId": "4b964841-398d-4a1b-87e0-264d9bb2afc7"
      },
      "execution_count": null,
      "outputs": [
        {
          "output_type": "stream",
          "name": "stdout",
          "text": [
            "[[6 6 6]\n",
            " [2 2 2]\n",
            " [3 2 5]] [[2 3 2]\n",
            " [1 1 2]\n",
            " [2 1 3]]\n",
            "[[8 9 8]\n",
            " [3 3 4]\n",
            " [5 3 8]]\n",
            "[[4 3 4]\n",
            " [1 1 0]\n",
            " [1 1 2]]\n",
            "[[12 18 12]\n",
            " [ 2  2  4]\n",
            " [ 6  2 15]]\n",
            "[[3.         2.         3.        ]\n",
            " [2.         2.         1.        ]\n",
            " [1.5        2.         1.66666667]]\n",
            "[[0 0 0]\n",
            " [0 0 0]\n",
            " [1 0 2]]\n"
          ]
        }
      ]
    },
    {
      "cell_type": "code",
      "source": [
        "x=np.array([[6,6,6],[2,2,2],[3,2,5]])\n",
        "print(x)\n",
        "x.flatten(order='F')"
      ],
      "metadata": {
        "colab": {
          "base_uri": "https://localhost:8080/"
        },
        "id": "gERDQ41yAG7-",
        "outputId": "c1df120d-5827-4589-d832-6418575ff55f"
      },
      "execution_count": null,
      "outputs": [
        {
          "output_type": "stream",
          "name": "stdout",
          "text": [
            "[[6 6 6]\n",
            " [2 2 2]\n",
            " [3 2 5]]\n"
          ]
        },
        {
          "output_type": "execute_result",
          "data": {
            "text/plain": [
              "array([6, 2, 3, 6, 2, 2, 6, 2, 5])"
            ]
          },
          "metadata": {},
          "execution_count": 52
        }
      ]
    },
    {
      "cell_type": "code",
      "source": [
        "print(x.T)"
      ],
      "metadata": {
        "colab": {
          "base_uri": "https://localhost:8080/"
        },
        "id": "JtLgtQW7BKQN",
        "outputId": "9b7e34ce-e9b4-4ba6-9802-3f204ac22780"
      },
      "execution_count": null,
      "outputs": [
        {
          "output_type": "stream",
          "name": "stdout",
          "text": [
            "[[6 2 3]\n",
            " [6 2 2]\n",
            " [6 2 5]]\n"
          ]
        }
      ]
    },
    {
      "cell_type": "code",
      "source": [
        "import numpy as np\n",
        "x=np.array([[6,6,6],[2,2,2],\n",
        "            [3,2,5]])\n",
        "\n",
        " \n",
        "\n",
        "a=[[5,6,7],[6,7,8],[4,5,6]]\n",
        "y=np.concatenate((x,a),axis=1)\n",
        "print(y)"
      ],
      "metadata": {
        "colab": {
          "base_uri": "https://localhost:8080/"
        },
        "id": "nuQ6-pvqCMKK",
        "outputId": "b9a112ee-d3eb-47bd-b8d3-9e8232c8697b"
      },
      "execution_count": null,
      "outputs": [
        {
          "output_type": "stream",
          "name": "stdout",
          "text": [
            "[[6 6 6 5 6 7]\n",
            " [2 2 2 6 7 8]\n",
            " [3 2 5 4 5 6]]\n"
          ]
        }
      ]
    },
    {
      "cell_type": "code",
      "source": [
        "a=[[5,6,7],[6,7,8],[4,5,6]]\n",
        "y=np.concatenate((x,a),axis=0)\n",
        "print(y)"
      ],
      "metadata": {
        "colab": {
          "base_uri": "https://localhost:8080/"
        },
        "id": "s0SkLY2CDf-T",
        "outputId": "807c30c0-6e5b-4674-b310-70374f1c7155"
      },
      "execution_count": null,
      "outputs": [
        {
          "output_type": "stream",
          "name": "stdout",
          "text": [
            "[[6 6 6]\n",
            " [2 2 2]\n",
            " [3 2 5]\n",
            " [5 6 7]\n",
            " [6 7 8]\n",
            " [4 5 6]]\n"
          ]
        }
      ]
    },
    {
      "cell_type": "code",
      "source": [
        "x=np.array([[5,8],[3,4]])\n",
        "\n",
        " \n",
        "print(x)\n",
        "y=np.insert(x,1,30)\n",
        "print(y)"
      ],
      "metadata": {
        "colab": {
          "base_uri": "https://localhost:8080/"
        },
        "id": "avuLe2PAE1to",
        "outputId": "7162fb69-a510-42ac-8737-1b1caaecadba"
      },
      "execution_count": null,
      "outputs": [
        {
          "output_type": "stream",
          "name": "stdout",
          "text": [
            "[[5 8]\n",
            " [3 4]]\n",
            "[ 5 30  8  3  4]\n"
          ]
        }
      ]
    },
    {
      "cell_type": "code",
      "source": [
        "x=np.array([[5,8],[3,4]])\n",
        "\n",
        " \n",
        "print(x)\n",
        "y=np.insert(x,1,30,axis=1)\n",
        "print(y)"
      ],
      "metadata": {
        "colab": {
          "base_uri": "https://localhost:8080/"
        },
        "id": "gp6VrN6PFLFi",
        "outputId": "797c5906-29ee-48fe-8fff-d559b38497d2"
      },
      "execution_count": null,
      "outputs": [
        {
          "output_type": "stream",
          "name": "stdout",
          "text": [
            "[[5 8]\n",
            " [3 4]]\n",
            "[[ 5 30  8]\n",
            " [ 3 30  4]]\n"
          ]
        }
      ]
    },
    {
      "cell_type": "code",
      "source": [
        "x= np.array([32,54,5,54,51,32,76,87,5,61])\n",
        "\n",
        " \n",
        "\n",
        "y=np.unique(x)\n",
        "print(y)"
      ],
      "metadata": {
        "colab": {
          "base_uri": "https://localhost:8080/"
        },
        "id": "FLsm7xxVF5ro",
        "outputId": "b2ea66c0-1218-463b-be65-b69aa6d12d31"
      },
      "execution_count": null,
      "outputs": [
        {
          "output_type": "stream",
          "name": "stdout",
          "text": [
            "[ 5 32 51 54 61 76 87]\n"
          ]
        }
      ]
    },
    {
      "cell_type": "code",
      "source": [
        "print(x)"
      ],
      "metadata": {
        "colab": {
          "base_uri": "https://localhost:8080/"
        },
        "id": "AAF86RVLGiMt",
        "outputId": "afc9d2a2-3485-439f-d336-2848e8e35118"
      },
      "execution_count": null,
      "outputs": [
        {
          "output_type": "stream",
          "name": "stdout",
          "text": [
            "[32 54  5 54 51 32 76 87  5 61]\n"
          ]
        }
      ]
    },
    {
      "cell_type": "code",
      "source": [
        "x=np.array([[1,2],[3,4]])\n",
        "\n",
        " \n",
        "\n",
        "print(np.amin(x)) #min\n",
        "print(np.amin(x,1)) #min row wise\n",
        "print(np.amin(x,0)) #min col wise\n",
        "print(np.amax(x)) #max\n",
        "print(np.amax(x,1)) #max row wise\n",
        "print(np.amax(x,0)) #max col wise"
      ],
      "metadata": {
        "colab": {
          "base_uri": "https://localhost:8080/"
        },
        "id": "qebyT1ZBGkzY",
        "outputId": "0a606696-998e-4927-997a-051eacd03f56"
      },
      "execution_count": null,
      "outputs": [
        {
          "output_type": "stream",
          "name": "stdout",
          "text": [
            "1\n",
            "[1 3]\n",
            "[1 2]\n",
            "4\n",
            "[2 4]\n",
            "[3 4]\n"
          ]
        }
      ]
    },
    {
      "cell_type": "code",
      "source": [
        "x=np.array([[0,0],[3,0]])\n",
        "\n",
        " \n",
        "\n",
        "print(np.nonzero(x))"
      ],
      "metadata": {
        "colab": {
          "base_uri": "https://localhost:8080/"
        },
        "id": "WQAMPqfgHP_0",
        "outputId": "ceb73f99-8a92-4aa2-e407-772689927d63"
      },
      "execution_count": null,
      "outputs": [
        {
          "output_type": "stream",
          "name": "stdout",
          "text": [
            "(array([1]), array([0]))\n"
          ]
        }
      ]
    },
    {
      "cell_type": "code",
      "source": [
        "x=np.array([[23,6],[13,3]])\n",
        "#row wise\n",
        "print(np.sort(x))\n",
        "#col wise\n",
        "print(np.sort(x,axis=0))"
      ],
      "metadata": {
        "colab": {
          "base_uri": "https://localhost:8080/"
        },
        "id": "6pFN0hvVIDm8",
        "outputId": "43f0ba89-5a0b-457b-b849-5a70d6da53e7"
      },
      "execution_count": null,
      "outputs": [
        {
          "output_type": "stream",
          "name": "stdout",
          "text": [
            "[[ 6 23]\n",
            " [ 3 13]]\n",
            "[[13  3]\n",
            " [23  6]]\n"
          ]
        }
      ]
    },
    {
      "cell_type": "code",
      "source": [
        "import pandas as pd\n",
        "s=pd.Series([4,5,6,7],index=['a','b','c','d'])\n",
        "s['a']=5\n",
        "s"
      ],
      "metadata": {
        "id": "gwS56JTYIofM",
        "colab": {
          "base_uri": "https://localhost:8080/"
        },
        "outputId": "bbe9ee7b-1274-4a66-fdf4-9407017a6d8b"
      },
      "execution_count": 6,
      "outputs": [
        {
          "output_type": "execute_result",
          "data": {
            "text/plain": [
              "a    5\n",
              "b    5\n",
              "c    6\n",
              "d    7\n",
              "dtype: int64"
            ]
          },
          "metadata": {},
          "execution_count": 6
        }
      ]
    },
    {
      "cell_type": "code",
      "source": [
        "d={'rollno':1,'name':'rosy','marks':34}"
      ],
      "metadata": {
        "id": "5Vdx0cNK8PuY"
      },
      "execution_count": 7,
      "outputs": []
    },
    {
      "cell_type": "code",
      "source": [
        "e=pd.Series(d,index=['name','rollno','marks'])\n",
        "e"
      ],
      "metadata": {
        "colab": {
          "base_uri": "https://localhost:8080/"
        },
        "id": "SKlgf1fj-7GW",
        "outputId": "a613b1ea-27ee-47dd-b7aa-996b9029ac48"
      },
      "execution_count": 11,
      "outputs": [
        {
          "output_type": "execute_result",
          "data": {
            "text/plain": [
              "name      rosy\n",
              "rollno       1\n",
              "marks       34\n",
              "dtype: object"
            ]
          },
          "metadata": {},
          "execution_count": 11
        }
      ]
    },
    {
      "cell_type": "code",
      "source": [
        "d=pd.Series(5,index=[1,2,3,4])\n",
        "d"
      ],
      "metadata": {
        "colab": {
          "base_uri": "https://localhost:8080/"
        },
        "id": "RTvelhG2--MA",
        "outputId": "1d323192-7558-484f-82e3-39bf0de21a92"
      },
      "execution_count": 13,
      "outputs": [
        {
          "output_type": "execute_result",
          "data": {
            "text/plain": [
              "1    5\n",
              "2    5\n",
              "3    5\n",
              "4    5\n",
              "dtype: int64"
            ]
          },
          "metadata": {},
          "execution_count": 13
        }
      ]
    },
    {
      "cell_type": "code",
      "source": [
        "p=pd.DataFrame()\n",
        "print(p)"
      ],
      "metadata": {
        "colab": {
          "base_uri": "https://localhost:8080/"
        },
        "id": "tEP62vD3__4i",
        "outputId": "5f3ee2e0-59e2-4904-d95e-6ae731386302"
      },
      "execution_count": 16,
      "outputs": [
        {
          "output_type": "stream",
          "name": "stdout",
          "text": [
            "Empty DataFrame\n",
            "Columns: []\n",
            "Index: []\n"
          ]
        }
      ]
    },
    {
      "cell_type": "code",
      "source": [
        ""
      ],
      "metadata": {
        "id": "_tfoFSYhA4bz"
      },
      "execution_count": 17,
      "outputs": []
    },
    {
      "cell_type": "code",
      "source": [
        "a=[4,5,6,7]\n",
        "b=pd.DataFrame(a)\n",
        "print(b)"
      ],
      "metadata": {
        "colab": {
          "base_uri": "https://localhost:8080/"
        },
        "id": "pn_zH92IBCaO",
        "outputId": "e13c51ac-4db2-48b7-a144-894581d06fc4"
      },
      "execution_count": 22,
      "outputs": [
        {
          "output_type": "stream",
          "name": "stdout",
          "text": [
            "   0\n",
            "0  4\n",
            "1  5\n",
            "2  6\n",
            "3  7\n"
          ]
        }
      ]
    },
    {
      "cell_type": "code",
      "source": [
        "s=[['rosy',22],['tal',26]]\n",
        "b=pd.DataFrame(s,columns=['name','age'],index=[1,2])\n",
        "b\n"
      ],
      "metadata": {
        "colab": {
          "base_uri": "https://localhost:8080/",
          "height": 112
        },
        "id": "MzpmSp-hBey9",
        "outputId": "36dff655-f727-4e33-c34a-65d9fe1107bf"
      },
      "execution_count": 30,
      "outputs": [
        {
          "output_type": "execute_result",
          "data": {
            "text/plain": [
              "   name  age\n",
              "1  rosy   22\n",
              "2   tal   26"
            ],
            "text/html": [
              "\n",
              "  <div id=\"df-3b05e6c4-d75c-4f9c-a7ec-0fbb823c550c\">\n",
              "    <div class=\"colab-df-container\">\n",
              "      <div>\n",
              "<style scoped>\n",
              "    .dataframe tbody tr th:only-of-type {\n",
              "        vertical-align: middle;\n",
              "    }\n",
              "\n",
              "    .dataframe tbody tr th {\n",
              "        vertical-align: top;\n",
              "    }\n",
              "\n",
              "    .dataframe thead th {\n",
              "        text-align: right;\n",
              "    }\n",
              "</style>\n",
              "<table border=\"1\" class=\"dataframe\">\n",
              "  <thead>\n",
              "    <tr style=\"text-align: right;\">\n",
              "      <th></th>\n",
              "      <th>name</th>\n",
              "      <th>age</th>\n",
              "    </tr>\n",
              "  </thead>\n",
              "  <tbody>\n",
              "    <tr>\n",
              "      <th>1</th>\n",
              "      <td>rosy</td>\n",
              "      <td>22</td>\n",
              "    </tr>\n",
              "    <tr>\n",
              "      <th>2</th>\n",
              "      <td>tal</td>\n",
              "      <td>26</td>\n",
              "    </tr>\n",
              "  </tbody>\n",
              "</table>\n",
              "</div>\n",
              "      <button class=\"colab-df-convert\" onclick=\"convertToInteractive('df-3b05e6c4-d75c-4f9c-a7ec-0fbb823c550c')\"\n",
              "              title=\"Convert this dataframe to an interactive table.\"\n",
              "              style=\"display:none;\">\n",
              "        \n",
              "  <svg xmlns=\"http://www.w3.org/2000/svg\" height=\"24px\"viewBox=\"0 0 24 24\"\n",
              "       width=\"24px\">\n",
              "    <path d=\"M0 0h24v24H0V0z\" fill=\"none\"/>\n",
              "    <path d=\"M18.56 5.44l.94 2.06.94-2.06 2.06-.94-2.06-.94-.94-2.06-.94 2.06-2.06.94zm-11 1L8.5 8.5l.94-2.06 2.06-.94-2.06-.94L8.5 2.5l-.94 2.06-2.06.94zm10 10l.94 2.06.94-2.06 2.06-.94-2.06-.94-.94-2.06-.94 2.06-2.06.94z\"/><path d=\"M17.41 7.96l-1.37-1.37c-.4-.4-.92-.59-1.43-.59-.52 0-1.04.2-1.43.59L10.3 9.45l-7.72 7.72c-.78.78-.78 2.05 0 2.83L4 21.41c.39.39.9.59 1.41.59.51 0 1.02-.2 1.41-.59l7.78-7.78 2.81-2.81c.8-.78.8-2.07 0-2.86zM5.41 20L4 18.59l7.72-7.72 1.47 1.35L5.41 20z\"/>\n",
              "  </svg>\n",
              "      </button>\n",
              "      \n",
              "  <style>\n",
              "    .colab-df-container {\n",
              "      display:flex;\n",
              "      flex-wrap:wrap;\n",
              "      gap: 12px;\n",
              "    }\n",
              "\n",
              "    .colab-df-convert {\n",
              "      background-color: #E8F0FE;\n",
              "      border: none;\n",
              "      border-radius: 50%;\n",
              "      cursor: pointer;\n",
              "      display: none;\n",
              "      fill: #1967D2;\n",
              "      height: 32px;\n",
              "      padding: 0 0 0 0;\n",
              "      width: 32px;\n",
              "    }\n",
              "\n",
              "    .colab-df-convert:hover {\n",
              "      background-color: #E2EBFA;\n",
              "      box-shadow: 0px 1px 2px rgba(60, 64, 67, 0.3), 0px 1px 3px 1px rgba(60, 64, 67, 0.15);\n",
              "      fill: #174EA6;\n",
              "    }\n",
              "\n",
              "    [theme=dark] .colab-df-convert {\n",
              "      background-color: #3B4455;\n",
              "      fill: #D2E3FC;\n",
              "    }\n",
              "\n",
              "    [theme=dark] .colab-df-convert:hover {\n",
              "      background-color: #434B5C;\n",
              "      box-shadow: 0px 1px 3px 1px rgba(0, 0, 0, 0.15);\n",
              "      filter: drop-shadow(0px 1px 2px rgba(0, 0, 0, 0.3));\n",
              "      fill: #FFFFFF;\n",
              "    }\n",
              "  </style>\n",
              "\n",
              "      <script>\n",
              "        const buttonEl =\n",
              "          document.querySelector('#df-3b05e6c4-d75c-4f9c-a7ec-0fbb823c550c button.colab-df-convert');\n",
              "        buttonEl.style.display =\n",
              "          google.colab.kernel.accessAllowed ? 'block' : 'none';\n",
              "\n",
              "        async function convertToInteractive(key) {\n",
              "          const element = document.querySelector('#df-3b05e6c4-d75c-4f9c-a7ec-0fbb823c550c');\n",
              "          const dataTable =\n",
              "            await google.colab.kernel.invokeFunction('convertToInteractive',\n",
              "                                                     [key], {});\n",
              "          if (!dataTable) return;\n",
              "\n",
              "          const docLinkHtml = 'Like what you see? Visit the ' +\n",
              "            '<a target=\"_blank\" href=https://colab.research.google.com/notebooks/data_table.ipynb>data table notebook</a>'\n",
              "            + ' to learn more about interactive tables.';\n",
              "          element.innerHTML = '';\n",
              "          dataTable['output_type'] = 'display_data';\n",
              "          await google.colab.output.renderOutput(dataTable, element);\n",
              "          const docLink = document.createElement('div');\n",
              "          docLink.innerHTML = docLinkHtml;\n",
              "          element.appendChild(docLink);\n",
              "        }\n",
              "      </script>\n",
              "    </div>\n",
              "  </div>\n",
              "  "
            ]
          },
          "metadata": {},
          "execution_count": 30
        }
      ]
    },
    {
      "cell_type": "code",
      "source": [
        "d={'rollno':1,'name':'rosy','marks':34}\n",
        "f=pd.DataFrame(d)\n",
        "f"
      ],
      "metadata": {
        "colab": {
          "base_uri": "https://localhost:8080/",
          "height": 371
        },
        "id": "GCSrbVvyCIYc",
        "outputId": "2dd64100-d85b-490b-c51b-f9cb8a5114bd"
      },
      "execution_count": 31,
      "outputs": [
        {
          "output_type": "error",
          "ename": "ValueError",
          "evalue": "ignored",
          "traceback": [
            "\u001b[0;31m---------------------------------------------------------------------------\u001b[0m",
            "\u001b[0;31mValueError\u001b[0m                                Traceback (most recent call last)",
            "\u001b[0;32m<ipython-input-31-8533b6b626be>\u001b[0m in \u001b[0;36m<module>\u001b[0;34m()\u001b[0m\n\u001b[1;32m      1\u001b[0m \u001b[0md\u001b[0m\u001b[0;34m=\u001b[0m\u001b[0;34m{\u001b[0m\u001b[0;34m'rollno'\u001b[0m\u001b[0;34m:\u001b[0m\u001b[0;36m1\u001b[0m\u001b[0;34m,\u001b[0m\u001b[0;34m'name'\u001b[0m\u001b[0;34m:\u001b[0m\u001b[0;34m'rosy'\u001b[0m\u001b[0;34m,\u001b[0m\u001b[0;34m'marks'\u001b[0m\u001b[0;34m:\u001b[0m\u001b[0;36m34\u001b[0m\u001b[0;34m}\u001b[0m\u001b[0;34m\u001b[0m\u001b[0;34m\u001b[0m\u001b[0m\n\u001b[0;32m----> 2\u001b[0;31m \u001b[0mf\u001b[0m\u001b[0;34m=\u001b[0m\u001b[0mpd\u001b[0m\u001b[0;34m.\u001b[0m\u001b[0mDataFrame\u001b[0m\u001b[0;34m(\u001b[0m\u001b[0md\u001b[0m\u001b[0;34m)\u001b[0m\u001b[0;34m\u001b[0m\u001b[0;34m\u001b[0m\u001b[0m\n\u001b[0m\u001b[1;32m      3\u001b[0m \u001b[0mf\u001b[0m\u001b[0;34m\u001b[0m\u001b[0;34m\u001b[0m\u001b[0m\n",
            "\u001b[0;32m/usr/local/lib/python3.7/dist-packages/pandas/core/frame.py\u001b[0m in \u001b[0;36m__init__\u001b[0;34m(self, data, index, columns, dtype, copy)\u001b[0m\n\u001b[1;32m    612\u001b[0m         \u001b[0;32melif\u001b[0m \u001b[0misinstance\u001b[0m\u001b[0;34m(\u001b[0m\u001b[0mdata\u001b[0m\u001b[0;34m,\u001b[0m \u001b[0mdict\u001b[0m\u001b[0;34m)\u001b[0m\u001b[0;34m:\u001b[0m\u001b[0;34m\u001b[0m\u001b[0;34m\u001b[0m\u001b[0m\n\u001b[1;32m    613\u001b[0m             \u001b[0;31m# GH#38939 de facto copy defaults to False only in non-dict cases\u001b[0m\u001b[0;34m\u001b[0m\u001b[0;34m\u001b[0m\u001b[0;34m\u001b[0m\u001b[0m\n\u001b[0;32m--> 614\u001b[0;31m             \u001b[0mmgr\u001b[0m \u001b[0;34m=\u001b[0m \u001b[0mdict_to_mgr\u001b[0m\u001b[0;34m(\u001b[0m\u001b[0mdata\u001b[0m\u001b[0;34m,\u001b[0m \u001b[0mindex\u001b[0m\u001b[0;34m,\u001b[0m \u001b[0mcolumns\u001b[0m\u001b[0;34m,\u001b[0m \u001b[0mdtype\u001b[0m\u001b[0;34m=\u001b[0m\u001b[0mdtype\u001b[0m\u001b[0;34m,\u001b[0m \u001b[0mcopy\u001b[0m\u001b[0;34m=\u001b[0m\u001b[0mcopy\u001b[0m\u001b[0;34m,\u001b[0m \u001b[0mtyp\u001b[0m\u001b[0;34m=\u001b[0m\u001b[0mmanager\u001b[0m\u001b[0;34m)\u001b[0m\u001b[0;34m\u001b[0m\u001b[0;34m\u001b[0m\u001b[0m\n\u001b[0m\u001b[1;32m    615\u001b[0m         \u001b[0;32melif\u001b[0m \u001b[0misinstance\u001b[0m\u001b[0;34m(\u001b[0m\u001b[0mdata\u001b[0m\u001b[0;34m,\u001b[0m \u001b[0mma\u001b[0m\u001b[0;34m.\u001b[0m\u001b[0mMaskedArray\u001b[0m\u001b[0;34m)\u001b[0m\u001b[0;34m:\u001b[0m\u001b[0;34m\u001b[0m\u001b[0;34m\u001b[0m\u001b[0m\n\u001b[1;32m    616\u001b[0m             \u001b[0;32mimport\u001b[0m \u001b[0mnumpy\u001b[0m\u001b[0;34m.\u001b[0m\u001b[0mma\u001b[0m\u001b[0;34m.\u001b[0m\u001b[0mmrecords\u001b[0m \u001b[0;32mas\u001b[0m \u001b[0mmrecords\u001b[0m\u001b[0;34m\u001b[0m\u001b[0;34m\u001b[0m\u001b[0m\n",
            "\u001b[0;32m/usr/local/lib/python3.7/dist-packages/pandas/core/internals/construction.py\u001b[0m in \u001b[0;36mdict_to_mgr\u001b[0;34m(data, index, columns, dtype, typ, copy)\u001b[0m\n\u001b[1;32m    463\u001b[0m \u001b[0;34m\u001b[0m\u001b[0m\n\u001b[1;32m    464\u001b[0m     return arrays_to_mgr(\n\u001b[0;32m--> 465\u001b[0;31m         \u001b[0marrays\u001b[0m\u001b[0;34m,\u001b[0m \u001b[0mdata_names\u001b[0m\u001b[0;34m,\u001b[0m \u001b[0mindex\u001b[0m\u001b[0;34m,\u001b[0m \u001b[0mcolumns\u001b[0m\u001b[0;34m,\u001b[0m \u001b[0mdtype\u001b[0m\u001b[0;34m=\u001b[0m\u001b[0mdtype\u001b[0m\u001b[0;34m,\u001b[0m \u001b[0mtyp\u001b[0m\u001b[0;34m=\u001b[0m\u001b[0mtyp\u001b[0m\u001b[0;34m,\u001b[0m \u001b[0mconsolidate\u001b[0m\u001b[0;34m=\u001b[0m\u001b[0mcopy\u001b[0m\u001b[0;34m\u001b[0m\u001b[0;34m\u001b[0m\u001b[0m\n\u001b[0m\u001b[1;32m    466\u001b[0m     )\n\u001b[1;32m    467\u001b[0m \u001b[0;34m\u001b[0m\u001b[0m\n",
            "\u001b[0;32m/usr/local/lib/python3.7/dist-packages/pandas/core/internals/construction.py\u001b[0m in \u001b[0;36marrays_to_mgr\u001b[0;34m(arrays, arr_names, index, columns, dtype, verify_integrity, typ, consolidate)\u001b[0m\n\u001b[1;32m    117\u001b[0m         \u001b[0;31m# figure out the index, if necessary\u001b[0m\u001b[0;34m\u001b[0m\u001b[0;34m\u001b[0m\u001b[0;34m\u001b[0m\u001b[0m\n\u001b[1;32m    118\u001b[0m         \u001b[0;32mif\u001b[0m \u001b[0mindex\u001b[0m \u001b[0;32mis\u001b[0m \u001b[0;32mNone\u001b[0m\u001b[0;34m:\u001b[0m\u001b[0;34m\u001b[0m\u001b[0;34m\u001b[0m\u001b[0m\n\u001b[0;32m--> 119\u001b[0;31m             \u001b[0mindex\u001b[0m \u001b[0;34m=\u001b[0m \u001b[0m_extract_index\u001b[0m\u001b[0;34m(\u001b[0m\u001b[0marrays\u001b[0m\u001b[0;34m)\u001b[0m\u001b[0;34m\u001b[0m\u001b[0;34m\u001b[0m\u001b[0m\n\u001b[0m\u001b[1;32m    120\u001b[0m         \u001b[0;32melse\u001b[0m\u001b[0;34m:\u001b[0m\u001b[0;34m\u001b[0m\u001b[0;34m\u001b[0m\u001b[0m\n\u001b[1;32m    121\u001b[0m             \u001b[0mindex\u001b[0m \u001b[0;34m=\u001b[0m \u001b[0mensure_index\u001b[0m\u001b[0;34m(\u001b[0m\u001b[0mindex\u001b[0m\u001b[0;34m)\u001b[0m\u001b[0;34m\u001b[0m\u001b[0;34m\u001b[0m\u001b[0m\n",
            "\u001b[0;32m/usr/local/lib/python3.7/dist-packages/pandas/core/internals/construction.py\u001b[0m in \u001b[0;36m_extract_index\u001b[0;34m(data)\u001b[0m\n\u001b[1;32m    623\u001b[0m \u001b[0;34m\u001b[0m\u001b[0m\n\u001b[1;32m    624\u001b[0m         \u001b[0;32mif\u001b[0m \u001b[0;32mnot\u001b[0m \u001b[0mindexes\u001b[0m \u001b[0;32mand\u001b[0m \u001b[0;32mnot\u001b[0m \u001b[0mraw_lengths\u001b[0m\u001b[0;34m:\u001b[0m\u001b[0;34m\u001b[0m\u001b[0;34m\u001b[0m\u001b[0m\n\u001b[0;32m--> 625\u001b[0;31m             \u001b[0;32mraise\u001b[0m \u001b[0mValueError\u001b[0m\u001b[0;34m(\u001b[0m\u001b[0;34m\"If using all scalar values, you must pass an index\"\u001b[0m\u001b[0;34m)\u001b[0m\u001b[0;34m\u001b[0m\u001b[0;34m\u001b[0m\u001b[0m\n\u001b[0m\u001b[1;32m    626\u001b[0m \u001b[0;34m\u001b[0m\u001b[0m\n\u001b[1;32m    627\u001b[0m         \u001b[0;32mif\u001b[0m \u001b[0mhave_series\u001b[0m\u001b[0;34m:\u001b[0m\u001b[0;34m\u001b[0m\u001b[0;34m\u001b[0m\u001b[0m\n",
            "\u001b[0;31mValueError\u001b[0m: If using all scalar values, you must pass an index"
          ]
        }
      ]
    },
    {
      "cell_type": "code",
      "source": [
        "d={'empno':101,\n",
        "'name':'aa',\n",
        "'salary':65000}\n",
        "\n",
        "df=pd.DataFrame(d,index=[1])\n",
        "print(df)"
      ],
      "metadata": {
        "colab": {
          "base_uri": "https://localhost:8080/"
        },
        "id": "UqJt8fJHDZ0O",
        "outputId": "ade0e7cc-518c-4447-e7de-281ac118326d"
      },
      "execution_count": 38,
      "outputs": [
        {
          "output_type": "stream",
          "name": "stdout",
          "text": [
            "   empno name  salary\n",
            "1    101   aa   65000\n"
          ]
        }
      ]
    },
    {
      "cell_type": "code",
      "source": [
        "df=pd.read_csv('transaction_data.csv')\n",
        "print(df.head())"
      ],
      "metadata": {
        "colab": {
          "base_uri": "https://localhost:8080/"
        },
        "id": "CdZFq8K2Dx73",
        "outputId": "9f5c4459-acb5-4400-e737-3b0020e38694"
      },
      "execution_count": 40,
      "outputs": [
        {
          "output_type": "stream",
          "name": "stdout",
          "text": [
            "     UserId  TransactionId               TransactionTime  ItemCode  \\\n",
            "0  278166.0        6355745  Sat Feb 02 12:50:00 IST 2019    465549   \n",
            "1  337701.0        6283376  Wed Dec 26 09:06:00 IST 2018    482370   \n",
            "2  267099.0        6385599  Fri Feb 15 09:45:00 IST 2019    490728   \n",
            "3  380478.0        6044973  Fri Jun 22 07:14:00 IST 2018    459186   \n",
            "4  331884.0        6223569  Sun Nov 18 11:14:00 IST 2018    461622   \n",
            "\n",
            "                    ItemDescription  NumberOfItemsPurchased  CostPerItem  \\\n",
            "0  FAMILY ALBUM WHITE PICTURE FRAME                       6        11.73   \n",
            "1             LONDON BUS COFFEE MUG                       3         3.52   \n",
            "2                               NaN                      72         0.90   \n",
            "3       UNION JACK FLAG LUGGAGE TAG                       3          NaN   \n",
            "4          PACK OF 12 SUKI TISSUES                       72         0.54   \n",
            "\n",
            "          Country  \n",
            "0  United Kingdom  \n",
            "1  United Kingdom  \n",
            "2          France  \n",
            "3  United Kingdom  \n",
            "4  United Kingdom  \n"
          ]
        }
      ]
    },
    {
      "cell_type": "code",
      "source": [
        "df.dtypes"
      ],
      "metadata": {
        "colab": {
          "base_uri": "https://localhost:8080/"
        },
        "id": "51ToPC8lFRkF",
        "outputId": "f1bb2ed9-afa5-484b-f07b-41db59ee7e13"
      },
      "execution_count": 44,
      "outputs": [
        {
          "output_type": "execute_result",
          "data": {
            "text/plain": [
              "UserId                    float64\n",
              "TransactionId               int64\n",
              "TransactionTime            object\n",
              "ItemCode                    int64\n",
              "ItemDescription            object\n",
              "NumberOfItemsPurchased      int64\n",
              "CostPerItem               float64\n",
              "Country                    object\n",
              "dtype: object"
            ]
          },
          "metadata": {},
          "execution_count": 44
        }
      ]
    },
    {
      "cell_type": "code",
      "source": [
        "df[2:7]"
      ],
      "metadata": {
        "colab": {
          "base_uri": "https://localhost:8080/",
          "height": 374
        },
        "id": "RuB7hsgoKrjO",
        "outputId": "9c1d0a33-c9fc-4418-97ed-554c1962508d"
      },
      "execution_count": 54,
      "outputs": [
        {
          "output_type": "execute_result",
          "data": {
            "text/plain": [
              "     UserId  TransactionId               TransactionTime  ItemCode  \\\n",
              "2  267099.0        6385599  Fri Feb 15 09:45:00 IST 2019    490728   \n",
              "3  380478.0        6044973  Fri Jun 22 07:14:00 IST 2018    459186   \n",
              "4  331884.0        6223569  Sun Nov 18 11:14:00 IST 2018    461622   \n",
              "5  335580.0        6031883  Mon Jun 11 11:05:00 IST 2018    476028   \n",
              "6  364308.0        6257163  Tue Dec 11 07:39:00 IST 2018    434028   \n",
              "\n",
              "                   ItemDescription  NumberOfItemsPurchased  CostPerItem  \\\n",
              "2                              NaN                      72         0.90   \n",
              "3      UNION JACK FLAG LUGGAGE TAG                       3          NaN   \n",
              "4         PACK OF 12 SUKI TISSUES                       72         0.54   \n",
              "5                PINK BABY BUNTING                     150         3.52   \n",
              "6  DISCO BALL CHRISTMAS DECORATION                      72          NaN   \n",
              "\n",
              "          Country  \n",
              "2          France  \n",
              "3  United Kingdom  \n",
              "4  United Kingdom  \n",
              "5  United Kingdom  \n",
              "6  United Kingdom  "
            ],
            "text/html": [
              "\n",
              "  <div id=\"df-810b66b5-f7e6-4275-9697-874589e5a6c7\">\n",
              "    <div class=\"colab-df-container\">\n",
              "      <div>\n",
              "<style scoped>\n",
              "    .dataframe tbody tr th:only-of-type {\n",
              "        vertical-align: middle;\n",
              "    }\n",
              "\n",
              "    .dataframe tbody tr th {\n",
              "        vertical-align: top;\n",
              "    }\n",
              "\n",
              "    .dataframe thead th {\n",
              "        text-align: right;\n",
              "    }\n",
              "</style>\n",
              "<table border=\"1\" class=\"dataframe\">\n",
              "  <thead>\n",
              "    <tr style=\"text-align: right;\">\n",
              "      <th></th>\n",
              "      <th>UserId</th>\n",
              "      <th>TransactionId</th>\n",
              "      <th>TransactionTime</th>\n",
              "      <th>ItemCode</th>\n",
              "      <th>ItemDescription</th>\n",
              "      <th>NumberOfItemsPurchased</th>\n",
              "      <th>CostPerItem</th>\n",
              "      <th>Country</th>\n",
              "    </tr>\n",
              "  </thead>\n",
              "  <tbody>\n",
              "    <tr>\n",
              "      <th>2</th>\n",
              "      <td>267099.0</td>\n",
              "      <td>6385599</td>\n",
              "      <td>Fri Feb 15 09:45:00 IST 2019</td>\n",
              "      <td>490728</td>\n",
              "      <td>NaN</td>\n",
              "      <td>72</td>\n",
              "      <td>0.90</td>\n",
              "      <td>France</td>\n",
              "    </tr>\n",
              "    <tr>\n",
              "      <th>3</th>\n",
              "      <td>380478.0</td>\n",
              "      <td>6044973</td>\n",
              "      <td>Fri Jun 22 07:14:00 IST 2018</td>\n",
              "      <td>459186</td>\n",
              "      <td>UNION JACK FLAG LUGGAGE TAG</td>\n",
              "      <td>3</td>\n",
              "      <td>NaN</td>\n",
              "      <td>United Kingdom</td>\n",
              "    </tr>\n",
              "    <tr>\n",
              "      <th>4</th>\n",
              "      <td>331884.0</td>\n",
              "      <td>6223569</td>\n",
              "      <td>Sun Nov 18 11:14:00 IST 2018</td>\n",
              "      <td>461622</td>\n",
              "      <td>PACK OF 12 SUKI TISSUES</td>\n",
              "      <td>72</td>\n",
              "      <td>0.54</td>\n",
              "      <td>United Kingdom</td>\n",
              "    </tr>\n",
              "    <tr>\n",
              "      <th>5</th>\n",
              "      <td>335580.0</td>\n",
              "      <td>6031883</td>\n",
              "      <td>Mon Jun 11 11:05:00 IST 2018</td>\n",
              "      <td>476028</td>\n",
              "      <td>PINK BABY BUNTING</td>\n",
              "      <td>150</td>\n",
              "      <td>3.52</td>\n",
              "      <td>United Kingdom</td>\n",
              "    </tr>\n",
              "    <tr>\n",
              "      <th>6</th>\n",
              "      <td>364308.0</td>\n",
              "      <td>6257163</td>\n",
              "      <td>Tue Dec 11 07:39:00 IST 2018</td>\n",
              "      <td>434028</td>\n",
              "      <td>DISCO BALL CHRISTMAS DECORATION</td>\n",
              "      <td>72</td>\n",
              "      <td>NaN</td>\n",
              "      <td>United Kingdom</td>\n",
              "    </tr>\n",
              "  </tbody>\n",
              "</table>\n",
              "</div>\n",
              "      <button class=\"colab-df-convert\" onclick=\"convertToInteractive('df-810b66b5-f7e6-4275-9697-874589e5a6c7')\"\n",
              "              title=\"Convert this dataframe to an interactive table.\"\n",
              "              style=\"display:none;\">\n",
              "        \n",
              "  <svg xmlns=\"http://www.w3.org/2000/svg\" height=\"24px\"viewBox=\"0 0 24 24\"\n",
              "       width=\"24px\">\n",
              "    <path d=\"M0 0h24v24H0V0z\" fill=\"none\"/>\n",
              "    <path d=\"M18.56 5.44l.94 2.06.94-2.06 2.06-.94-2.06-.94-.94-2.06-.94 2.06-2.06.94zm-11 1L8.5 8.5l.94-2.06 2.06-.94-2.06-.94L8.5 2.5l-.94 2.06-2.06.94zm10 10l.94 2.06.94-2.06 2.06-.94-2.06-.94-.94-2.06-.94 2.06-2.06.94z\"/><path d=\"M17.41 7.96l-1.37-1.37c-.4-.4-.92-.59-1.43-.59-.52 0-1.04.2-1.43.59L10.3 9.45l-7.72 7.72c-.78.78-.78 2.05 0 2.83L4 21.41c.39.39.9.59 1.41.59.51 0 1.02-.2 1.41-.59l7.78-7.78 2.81-2.81c.8-.78.8-2.07 0-2.86zM5.41 20L4 18.59l7.72-7.72 1.47 1.35L5.41 20z\"/>\n",
              "  </svg>\n",
              "      </button>\n",
              "      \n",
              "  <style>\n",
              "    .colab-df-container {\n",
              "      display:flex;\n",
              "      flex-wrap:wrap;\n",
              "      gap: 12px;\n",
              "    }\n",
              "\n",
              "    .colab-df-convert {\n",
              "      background-color: #E8F0FE;\n",
              "      border: none;\n",
              "      border-radius: 50%;\n",
              "      cursor: pointer;\n",
              "      display: none;\n",
              "      fill: #1967D2;\n",
              "      height: 32px;\n",
              "      padding: 0 0 0 0;\n",
              "      width: 32px;\n",
              "    }\n",
              "\n",
              "    .colab-df-convert:hover {\n",
              "      background-color: #E2EBFA;\n",
              "      box-shadow: 0px 1px 2px rgba(60, 64, 67, 0.3), 0px 1px 3px 1px rgba(60, 64, 67, 0.15);\n",
              "      fill: #174EA6;\n",
              "    }\n",
              "\n",
              "    [theme=dark] .colab-df-convert {\n",
              "      background-color: #3B4455;\n",
              "      fill: #D2E3FC;\n",
              "    }\n",
              "\n",
              "    [theme=dark] .colab-df-convert:hover {\n",
              "      background-color: #434B5C;\n",
              "      box-shadow: 0px 1px 3px 1px rgba(0, 0, 0, 0.15);\n",
              "      filter: drop-shadow(0px 1px 2px rgba(0, 0, 0, 0.3));\n",
              "      fill: #FFFFFF;\n",
              "    }\n",
              "  </style>\n",
              "\n",
              "      <script>\n",
              "        const buttonEl =\n",
              "          document.querySelector('#df-810b66b5-f7e6-4275-9697-874589e5a6c7 button.colab-df-convert');\n",
              "        buttonEl.style.display =\n",
              "          google.colab.kernel.accessAllowed ? 'block' : 'none';\n",
              "\n",
              "        async function convertToInteractive(key) {\n",
              "          const element = document.querySelector('#df-810b66b5-f7e6-4275-9697-874589e5a6c7');\n",
              "          const dataTable =\n",
              "            await google.colab.kernel.invokeFunction('convertToInteractive',\n",
              "                                                     [key], {});\n",
              "          if (!dataTable) return;\n",
              "\n",
              "          const docLinkHtml = 'Like what you see? Visit the ' +\n",
              "            '<a target=\"_blank\" href=https://colab.research.google.com/notebooks/data_table.ipynb>data table notebook</a>'\n",
              "            + ' to learn more about interactive tables.';\n",
              "          element.innerHTML = '';\n",
              "          dataTable['output_type'] = 'display_data';\n",
              "          await google.colab.output.renderOutput(dataTable, element);\n",
              "          const docLink = document.createElement('div');\n",
              "          docLink.innerHTML = docLinkHtml;\n",
              "          element.appendChild(docLink);\n",
              "        }\n",
              "      </script>\n",
              "    </div>\n",
              "  </div>\n",
              "  "
            ]
          },
          "metadata": {},
          "execution_count": 54
        }
      ]
    },
    {
      "cell_type": "code",
      "source": [
        "\n",
        "df['TotalBill']=df['CostPerItem']*df['NumberOfItemsPurchased']\n",
        "print(df[['TotalBill','CostPerItem','NumberOfItemsPurchased']].head(10))"
      ],
      "metadata": {
        "colab": {
          "base_uri": "https://localhost:8080/"
        },
        "id": "DXMpVx6CK3vh",
        "outputId": "d09c27fe-ed4e-43c3-ec77-f7a5cab04f4d"
      },
      "execution_count": 57,
      "outputs": [
        {
          "output_type": "stream",
          "name": "stdout",
          "text": [
            "   TotalBill  CostPerItem  NumberOfItemsPurchased\n",
            "0      70.38        11.73                       6\n",
            "1      10.56         3.52                       3\n",
            "2      64.80         0.90                      72\n",
            "3        NaN          NaN                       3\n",
            "4      38.88         0.54                      72\n",
            "5     528.00         3.52                     150\n",
            "6        NaN          NaN                      72\n",
            "7     132.12        22.02                       6\n",
            "8     102.00         3.40                      30\n",
            "9      34.35        11.45                       3\n"
          ]
        }
      ]
    },
    {
      "cell_type": "code",
      "source": [
        "print(df.iloc[0:3,0:3])"
      ],
      "metadata": {
        "colab": {
          "base_uri": "https://localhost:8080/"
        },
        "id": "2l2Si5dHMfdm",
        "outputId": "317348a4-46bf-408a-ce52-454a2455ad87"
      },
      "execution_count": 60,
      "outputs": [
        {
          "output_type": "stream",
          "name": "stdout",
          "text": [
            "     UserId  TransactionId               TransactionTime\n",
            "0  278166.0        6355745  Sat Feb 02 12:50:00 IST 2019\n",
            "1  337701.0        6283376  Wed Dec 26 09:06:00 IST 2018\n",
            "2  267099.0        6385599  Fri Feb 15 09:45:00 IST 2019\n"
          ]
        }
      ]
    },
    {
      "cell_type": "code",
      "source": [
        "df=pd.read_csv('transaction_data_index.csv',index_col='SrNo')\n",
        "s=df.loc['A0003']\n",
        "print(s)"
      ],
      "metadata": {
        "colab": {
          "base_uri": "https://localhost:8080/"
        },
        "id": "CMfR0XleNSNx",
        "outputId": "8d7409a7-4647-4d07-c801-f3544ef6e118"
      },
      "execution_count": 63,
      "outputs": [
        {
          "output_type": "stream",
          "name": "stdout",
          "text": [
            "UserId                                        267099.0\n",
            "TransactionId                                  6385599\n",
            "TransactionTime           Fri Feb 15 09:45:00 IST 2019\n",
            "ItemCode                                        490728\n",
            "ItemDescription                                    NaN\n",
            "NumberOfItemsPurchased                              72\n",
            "CostPerItem                                        0.9\n",
            "Country                                         France\n",
            "Name: A0003, dtype: object\n"
          ]
        }
      ]
    },
    {
      "cell_type": "code",
      "source": [
        "df=pd.read_csv('transaction_data.csv')\n",
        "dt=df[(df['Country']=='India')& (df['CostPerItem']>14)]\n",
        "print(dt)"
      ],
      "metadata": {
        "colab": {
          "base_uri": "https://localhost:8080/"
        },
        "id": "hNyzyWjxOKnL",
        "outputId": "0e549269-08b1-4a4d-ef60-f1fdb771365e"
      },
      "execution_count": 67,
      "outputs": [
        {
          "output_type": "stream",
          "name": "stdout",
          "text": [
            "       UserId  TransactionId               TransactionTime  ItemCode  \\\n",
            "57       -1.0        6314814  Mon Jan 14 11:33:00 IST 2019   1765638   \n",
            "123      -1.0        5914326  Fri Feb 18 14:36:00 IST 2028    446418   \n",
            "262  291480.0        6111534  Sat Aug 18 06:09:00 IST 2018    470883   \n",
            "265      -1.0        6395829  Tue Feb 19 12:30:00 IST 2019    481761   \n",
            "287  365799.0        6005065  Sun May 20 07:44:00 IST 2018    479472   \n",
            "\n",
            "                      ItemDescription  NumberOfItemsPurchased  CostPerItem  \\\n",
            "57   SET/4 WHITE RETRO STORAGE CUBES                        3        80.45   \n",
            "123        VICTORIAN SEWING BOX LARGE                       3        35.18   \n",
            "262          REGENCY CAKESTAND 3 TIER                       3        17.60   \n",
            "265      CHRISTMAS LIGHTS 10 REINDEER                       6        22.95   \n",
            "287         BROCANTE SHELF WITH HOOKS                       6        14.84   \n",
            "\n",
            "    Country  \n",
            "57    India  \n",
            "123   India  \n",
            "262   India  \n",
            "265   India  \n",
            "287   India  \n"
          ]
        }
      ]
    },
    {
      "cell_type": "code",
      "source": [
        "df.insert(1,'GST',df['CostPerItem']*0.18)\n",
        "print(df.head(10))"
      ],
      "metadata": {
        "colab": {
          "base_uri": "https://localhost:8080/",
          "height": 329
        },
        "id": "t7h1ntTJOLqX",
        "outputId": "f0ae13b4-fc89-4c69-87be-84fef8dd5f0b"
      },
      "execution_count": 69,
      "outputs": [
        {
          "output_type": "error",
          "ename": "ValueError",
          "evalue": "ignored",
          "traceback": [
            "\u001b[0;31m---------------------------------------------------------------------------\u001b[0m",
            "\u001b[0;31mValueError\u001b[0m                                Traceback (most recent call last)",
            "\u001b[0;32m<ipython-input-69-c4464e3d0493>\u001b[0m in \u001b[0;36m<module>\u001b[0;34m()\u001b[0m\n\u001b[0;32m----> 1\u001b[0;31m \u001b[0mdf\u001b[0m\u001b[0;34m.\u001b[0m\u001b[0minsert\u001b[0m\u001b[0;34m(\u001b[0m\u001b[0;36m1\u001b[0m\u001b[0;34m,\u001b[0m\u001b[0;34m'GST'\u001b[0m\u001b[0;34m,\u001b[0m\u001b[0mdf\u001b[0m\u001b[0;34m[\u001b[0m\u001b[0;34m'CostPerItem'\u001b[0m\u001b[0;34m]\u001b[0m\u001b[0;34m*\u001b[0m\u001b[0;36m0.18\u001b[0m\u001b[0;34m)\u001b[0m\u001b[0;34m\u001b[0m\u001b[0;34m\u001b[0m\u001b[0m\n\u001b[0m\u001b[1;32m      2\u001b[0m \u001b[0mprint\u001b[0m\u001b[0;34m(\u001b[0m\u001b[0mdf\u001b[0m\u001b[0;34m.\u001b[0m\u001b[0mhead\u001b[0m\u001b[0;34m(\u001b[0m\u001b[0;36m10\u001b[0m\u001b[0;34m)\u001b[0m\u001b[0;34m)\u001b[0m\u001b[0;34m\u001b[0m\u001b[0;34m\u001b[0m\u001b[0m\n",
            "\u001b[0;32m/usr/local/lib/python3.7/dist-packages/pandas/core/frame.py\u001b[0m in \u001b[0;36minsert\u001b[0;34m(self, loc, column, value, allow_duplicates)\u001b[0m\n\u001b[1;32m   4412\u001b[0m         \u001b[0;32mif\u001b[0m \u001b[0;32mnot\u001b[0m \u001b[0mallow_duplicates\u001b[0m \u001b[0;32mand\u001b[0m \u001b[0mcolumn\u001b[0m \u001b[0;32min\u001b[0m \u001b[0mself\u001b[0m\u001b[0;34m.\u001b[0m\u001b[0mcolumns\u001b[0m\u001b[0;34m:\u001b[0m\u001b[0;34m\u001b[0m\u001b[0;34m\u001b[0m\u001b[0m\n\u001b[1;32m   4413\u001b[0m             \u001b[0;31m# Should this be a different kind of error??\u001b[0m\u001b[0;34m\u001b[0m\u001b[0;34m\u001b[0m\u001b[0;34m\u001b[0m\u001b[0m\n\u001b[0;32m-> 4414\u001b[0;31m             \u001b[0;32mraise\u001b[0m \u001b[0mValueError\u001b[0m\u001b[0;34m(\u001b[0m\u001b[0;34mf\"cannot insert {column}, already exists\"\u001b[0m\u001b[0;34m)\u001b[0m\u001b[0;34m\u001b[0m\u001b[0;34m\u001b[0m\u001b[0m\n\u001b[0m\u001b[1;32m   4415\u001b[0m         \u001b[0;32mif\u001b[0m \u001b[0;32mnot\u001b[0m \u001b[0misinstance\u001b[0m\u001b[0;34m(\u001b[0m\u001b[0mloc\u001b[0m\u001b[0;34m,\u001b[0m \u001b[0mint\u001b[0m\u001b[0;34m)\u001b[0m\u001b[0;34m:\u001b[0m\u001b[0;34m\u001b[0m\u001b[0;34m\u001b[0m\u001b[0m\n\u001b[1;32m   4416\u001b[0m             \u001b[0;32mraise\u001b[0m \u001b[0mTypeError\u001b[0m\u001b[0;34m(\u001b[0m\u001b[0;34m\"loc must be int\"\u001b[0m\u001b[0;34m)\u001b[0m\u001b[0;34m\u001b[0m\u001b[0;34m\u001b[0m\u001b[0m\n",
            "\u001b[0;31mValueError\u001b[0m: cannot insert GST, already exists"
          ]
        }
      ]
    },
    {
      "cell_type": "code",
      "source": [
        "df.head()"
      ],
      "metadata": {
        "colab": {
          "base_uri": "https://localhost:8080/",
          "height": 374
        },
        "id": "1gwWUH9pPyw6",
        "outputId": "5200c180-3ba8-4a3a-ba6e-21ae15b4a690"
      },
      "execution_count": 70,
      "outputs": [
        {
          "output_type": "execute_result",
          "data": {
            "text/plain": [
              "     UserId     GST  TransactionId               TransactionTime  ItemCode  \\\n",
              "0  278166.0  2.1114        6355745  Sat Feb 02 12:50:00 IST 2019    465549   \n",
              "1  337701.0  0.6336        6283376  Wed Dec 26 09:06:00 IST 2018    482370   \n",
              "2  267099.0  0.1620        6385599  Fri Feb 15 09:45:00 IST 2019    490728   \n",
              "3  380478.0     NaN        6044973  Fri Jun 22 07:14:00 IST 2018    459186   \n",
              "4  331884.0  0.0972        6223569  Sun Nov 18 11:14:00 IST 2018    461622   \n",
              "\n",
              "                    ItemDescription  NumberOfItemsPurchased  CostPerItem  \\\n",
              "0  FAMILY ALBUM WHITE PICTURE FRAME                       6        11.73   \n",
              "1             LONDON BUS COFFEE MUG                       3         3.52   \n",
              "2                               NaN                      72         0.90   \n",
              "3       UNION JACK FLAG LUGGAGE TAG                       3          NaN   \n",
              "4          PACK OF 12 SUKI TISSUES                       72         0.54   \n",
              "\n",
              "          Country  \n",
              "0  United Kingdom  \n",
              "1  United Kingdom  \n",
              "2          France  \n",
              "3  United Kingdom  \n",
              "4  United Kingdom  "
            ],
            "text/html": [
              "\n",
              "  <div id=\"df-2453f6a0-60ab-46dd-97cf-cb16a7b2ec63\">\n",
              "    <div class=\"colab-df-container\">\n",
              "      <div>\n",
              "<style scoped>\n",
              "    .dataframe tbody tr th:only-of-type {\n",
              "        vertical-align: middle;\n",
              "    }\n",
              "\n",
              "    .dataframe tbody tr th {\n",
              "        vertical-align: top;\n",
              "    }\n",
              "\n",
              "    .dataframe thead th {\n",
              "        text-align: right;\n",
              "    }\n",
              "</style>\n",
              "<table border=\"1\" class=\"dataframe\">\n",
              "  <thead>\n",
              "    <tr style=\"text-align: right;\">\n",
              "      <th></th>\n",
              "      <th>UserId</th>\n",
              "      <th>GST</th>\n",
              "      <th>TransactionId</th>\n",
              "      <th>TransactionTime</th>\n",
              "      <th>ItemCode</th>\n",
              "      <th>ItemDescription</th>\n",
              "      <th>NumberOfItemsPurchased</th>\n",
              "      <th>CostPerItem</th>\n",
              "      <th>Country</th>\n",
              "    </tr>\n",
              "  </thead>\n",
              "  <tbody>\n",
              "    <tr>\n",
              "      <th>0</th>\n",
              "      <td>278166.0</td>\n",
              "      <td>2.1114</td>\n",
              "      <td>6355745</td>\n",
              "      <td>Sat Feb 02 12:50:00 IST 2019</td>\n",
              "      <td>465549</td>\n",
              "      <td>FAMILY ALBUM WHITE PICTURE FRAME</td>\n",
              "      <td>6</td>\n",
              "      <td>11.73</td>\n",
              "      <td>United Kingdom</td>\n",
              "    </tr>\n",
              "    <tr>\n",
              "      <th>1</th>\n",
              "      <td>337701.0</td>\n",
              "      <td>0.6336</td>\n",
              "      <td>6283376</td>\n",
              "      <td>Wed Dec 26 09:06:00 IST 2018</td>\n",
              "      <td>482370</td>\n",
              "      <td>LONDON BUS COFFEE MUG</td>\n",
              "      <td>3</td>\n",
              "      <td>3.52</td>\n",
              "      <td>United Kingdom</td>\n",
              "    </tr>\n",
              "    <tr>\n",
              "      <th>2</th>\n",
              "      <td>267099.0</td>\n",
              "      <td>0.1620</td>\n",
              "      <td>6385599</td>\n",
              "      <td>Fri Feb 15 09:45:00 IST 2019</td>\n",
              "      <td>490728</td>\n",
              "      <td>NaN</td>\n",
              "      <td>72</td>\n",
              "      <td>0.90</td>\n",
              "      <td>France</td>\n",
              "    </tr>\n",
              "    <tr>\n",
              "      <th>3</th>\n",
              "      <td>380478.0</td>\n",
              "      <td>NaN</td>\n",
              "      <td>6044973</td>\n",
              "      <td>Fri Jun 22 07:14:00 IST 2018</td>\n",
              "      <td>459186</td>\n",
              "      <td>UNION JACK FLAG LUGGAGE TAG</td>\n",
              "      <td>3</td>\n",
              "      <td>NaN</td>\n",
              "      <td>United Kingdom</td>\n",
              "    </tr>\n",
              "    <tr>\n",
              "      <th>4</th>\n",
              "      <td>331884.0</td>\n",
              "      <td>0.0972</td>\n",
              "      <td>6223569</td>\n",
              "      <td>Sun Nov 18 11:14:00 IST 2018</td>\n",
              "      <td>461622</td>\n",
              "      <td>PACK OF 12 SUKI TISSUES</td>\n",
              "      <td>72</td>\n",
              "      <td>0.54</td>\n",
              "      <td>United Kingdom</td>\n",
              "    </tr>\n",
              "  </tbody>\n",
              "</table>\n",
              "</div>\n",
              "      <button class=\"colab-df-convert\" onclick=\"convertToInteractive('df-2453f6a0-60ab-46dd-97cf-cb16a7b2ec63')\"\n",
              "              title=\"Convert this dataframe to an interactive table.\"\n",
              "              style=\"display:none;\">\n",
              "        \n",
              "  <svg xmlns=\"http://www.w3.org/2000/svg\" height=\"24px\"viewBox=\"0 0 24 24\"\n",
              "       width=\"24px\">\n",
              "    <path d=\"M0 0h24v24H0V0z\" fill=\"none\"/>\n",
              "    <path d=\"M18.56 5.44l.94 2.06.94-2.06 2.06-.94-2.06-.94-.94-2.06-.94 2.06-2.06.94zm-11 1L8.5 8.5l.94-2.06 2.06-.94-2.06-.94L8.5 2.5l-.94 2.06-2.06.94zm10 10l.94 2.06.94-2.06 2.06-.94-2.06-.94-.94-2.06-.94 2.06-2.06.94z\"/><path d=\"M17.41 7.96l-1.37-1.37c-.4-.4-.92-.59-1.43-.59-.52 0-1.04.2-1.43.59L10.3 9.45l-7.72 7.72c-.78.78-.78 2.05 0 2.83L4 21.41c.39.39.9.59 1.41.59.51 0 1.02-.2 1.41-.59l7.78-7.78 2.81-2.81c.8-.78.8-2.07 0-2.86zM5.41 20L4 18.59l7.72-7.72 1.47 1.35L5.41 20z\"/>\n",
              "  </svg>\n",
              "      </button>\n",
              "      \n",
              "  <style>\n",
              "    .colab-df-container {\n",
              "      display:flex;\n",
              "      flex-wrap:wrap;\n",
              "      gap: 12px;\n",
              "    }\n",
              "\n",
              "    .colab-df-convert {\n",
              "      background-color: #E8F0FE;\n",
              "      border: none;\n",
              "      border-radius: 50%;\n",
              "      cursor: pointer;\n",
              "      display: none;\n",
              "      fill: #1967D2;\n",
              "      height: 32px;\n",
              "      padding: 0 0 0 0;\n",
              "      width: 32px;\n",
              "    }\n",
              "\n",
              "    .colab-df-convert:hover {\n",
              "      background-color: #E2EBFA;\n",
              "      box-shadow: 0px 1px 2px rgba(60, 64, 67, 0.3), 0px 1px 3px 1px rgba(60, 64, 67, 0.15);\n",
              "      fill: #174EA6;\n",
              "    }\n",
              "\n",
              "    [theme=dark] .colab-df-convert {\n",
              "      background-color: #3B4455;\n",
              "      fill: #D2E3FC;\n",
              "    }\n",
              "\n",
              "    [theme=dark] .colab-df-convert:hover {\n",
              "      background-color: #434B5C;\n",
              "      box-shadow: 0px 1px 3px 1px rgba(0, 0, 0, 0.15);\n",
              "      filter: drop-shadow(0px 1px 2px rgba(0, 0, 0, 0.3));\n",
              "      fill: #FFFFFF;\n",
              "    }\n",
              "  </style>\n",
              "\n",
              "      <script>\n",
              "        const buttonEl =\n",
              "          document.querySelector('#df-2453f6a0-60ab-46dd-97cf-cb16a7b2ec63 button.colab-df-convert');\n",
              "        buttonEl.style.display =\n",
              "          google.colab.kernel.accessAllowed ? 'block' : 'none';\n",
              "\n",
              "        async function convertToInteractive(key) {\n",
              "          const element = document.querySelector('#df-2453f6a0-60ab-46dd-97cf-cb16a7b2ec63');\n",
              "          const dataTable =\n",
              "            await google.colab.kernel.invokeFunction('convertToInteractive',\n",
              "                                                     [key], {});\n",
              "          if (!dataTable) return;\n",
              "\n",
              "          const docLinkHtml = 'Like what you see? Visit the ' +\n",
              "            '<a target=\"_blank\" href=https://colab.research.google.com/notebooks/data_table.ipynb>data table notebook</a>'\n",
              "            + ' to learn more about interactive tables.';\n",
              "          element.innerHTML = '';\n",
              "          dataTable['output_type'] = 'display_data';\n",
              "          await google.colab.output.renderOutput(dataTable, element);\n",
              "          const docLink = document.createElement('div');\n",
              "          docLink.innerHTML = docLinkHtml;\n",
              "          element.appendChild(docLink);\n",
              "        }\n",
              "      </script>\n",
              "    </div>\n",
              "  </div>\n",
              "  "
            ]
          },
          "metadata": {},
          "execution_count": 70
        }
      ]
    },
    {
      "cell_type": "code",
      "source": [
        "df['CostPerItem'].fillna(0,inplace=True)"
      ],
      "metadata": {
        "id": "jRsEnC9HP6zU"
      },
      "execution_count": 73,
      "outputs": []
    },
    {
      "cell_type": "code",
      "source": [
        "df.head()"
      ],
      "metadata": {
        "colab": {
          "base_uri": "https://localhost:8080/",
          "height": 374
        },
        "id": "_5-Xo-zMQaxt",
        "outputId": "4dda3dfa-2099-46b9-a999-ce6720b71c7f"
      },
      "execution_count": 74,
      "outputs": [
        {
          "output_type": "execute_result",
          "data": {
            "text/plain": [
              "     UserId     GST  TransactionId               TransactionTime  ItemCode  \\\n",
              "0  278166.0  2.1114        6355745  Sat Feb 02 12:50:00 IST 2019    465549   \n",
              "1  337701.0  0.6336        6283376  Wed Dec 26 09:06:00 IST 2018    482370   \n",
              "2  267099.0  0.1620        6385599  Fri Feb 15 09:45:00 IST 2019    490728   \n",
              "3  380478.0     NaN        6044973  Fri Jun 22 07:14:00 IST 2018    459186   \n",
              "4  331884.0  0.0972        6223569  Sun Nov 18 11:14:00 IST 2018    461622   \n",
              "\n",
              "                    ItemDescription  NumberOfItemsPurchased  CostPerItem  \\\n",
              "0  FAMILY ALBUM WHITE PICTURE FRAME                       6        11.73   \n",
              "1             LONDON BUS COFFEE MUG                       3         3.52   \n",
              "2                               NaN                      72         0.90   \n",
              "3       UNION JACK FLAG LUGGAGE TAG                       3         0.00   \n",
              "4          PACK OF 12 SUKI TISSUES                       72         0.54   \n",
              "\n",
              "          Country  \n",
              "0  United Kingdom  \n",
              "1  United Kingdom  \n",
              "2          France  \n",
              "3  United Kingdom  \n",
              "4  United Kingdom  "
            ],
            "text/html": [
              "\n",
              "  <div id=\"df-bb1d0e94-3521-4fde-a207-36f970295a03\">\n",
              "    <div class=\"colab-df-container\">\n",
              "      <div>\n",
              "<style scoped>\n",
              "    .dataframe tbody tr th:only-of-type {\n",
              "        vertical-align: middle;\n",
              "    }\n",
              "\n",
              "    .dataframe tbody tr th {\n",
              "        vertical-align: top;\n",
              "    }\n",
              "\n",
              "    .dataframe thead th {\n",
              "        text-align: right;\n",
              "    }\n",
              "</style>\n",
              "<table border=\"1\" class=\"dataframe\">\n",
              "  <thead>\n",
              "    <tr style=\"text-align: right;\">\n",
              "      <th></th>\n",
              "      <th>UserId</th>\n",
              "      <th>GST</th>\n",
              "      <th>TransactionId</th>\n",
              "      <th>TransactionTime</th>\n",
              "      <th>ItemCode</th>\n",
              "      <th>ItemDescription</th>\n",
              "      <th>NumberOfItemsPurchased</th>\n",
              "      <th>CostPerItem</th>\n",
              "      <th>Country</th>\n",
              "    </tr>\n",
              "  </thead>\n",
              "  <tbody>\n",
              "    <tr>\n",
              "      <th>0</th>\n",
              "      <td>278166.0</td>\n",
              "      <td>2.1114</td>\n",
              "      <td>6355745</td>\n",
              "      <td>Sat Feb 02 12:50:00 IST 2019</td>\n",
              "      <td>465549</td>\n",
              "      <td>FAMILY ALBUM WHITE PICTURE FRAME</td>\n",
              "      <td>6</td>\n",
              "      <td>11.73</td>\n",
              "      <td>United Kingdom</td>\n",
              "    </tr>\n",
              "    <tr>\n",
              "      <th>1</th>\n",
              "      <td>337701.0</td>\n",
              "      <td>0.6336</td>\n",
              "      <td>6283376</td>\n",
              "      <td>Wed Dec 26 09:06:00 IST 2018</td>\n",
              "      <td>482370</td>\n",
              "      <td>LONDON BUS COFFEE MUG</td>\n",
              "      <td>3</td>\n",
              "      <td>3.52</td>\n",
              "      <td>United Kingdom</td>\n",
              "    </tr>\n",
              "    <tr>\n",
              "      <th>2</th>\n",
              "      <td>267099.0</td>\n",
              "      <td>0.1620</td>\n",
              "      <td>6385599</td>\n",
              "      <td>Fri Feb 15 09:45:00 IST 2019</td>\n",
              "      <td>490728</td>\n",
              "      <td>NaN</td>\n",
              "      <td>72</td>\n",
              "      <td>0.90</td>\n",
              "      <td>France</td>\n",
              "    </tr>\n",
              "    <tr>\n",
              "      <th>3</th>\n",
              "      <td>380478.0</td>\n",
              "      <td>NaN</td>\n",
              "      <td>6044973</td>\n",
              "      <td>Fri Jun 22 07:14:00 IST 2018</td>\n",
              "      <td>459186</td>\n",
              "      <td>UNION JACK FLAG LUGGAGE TAG</td>\n",
              "      <td>3</td>\n",
              "      <td>0.00</td>\n",
              "      <td>United Kingdom</td>\n",
              "    </tr>\n",
              "    <tr>\n",
              "      <th>4</th>\n",
              "      <td>331884.0</td>\n",
              "      <td>0.0972</td>\n",
              "      <td>6223569</td>\n",
              "      <td>Sun Nov 18 11:14:00 IST 2018</td>\n",
              "      <td>461622</td>\n",
              "      <td>PACK OF 12 SUKI TISSUES</td>\n",
              "      <td>72</td>\n",
              "      <td>0.54</td>\n",
              "      <td>United Kingdom</td>\n",
              "    </tr>\n",
              "  </tbody>\n",
              "</table>\n",
              "</div>\n",
              "      <button class=\"colab-df-convert\" onclick=\"convertToInteractive('df-bb1d0e94-3521-4fde-a207-36f970295a03')\"\n",
              "              title=\"Convert this dataframe to an interactive table.\"\n",
              "              style=\"display:none;\">\n",
              "        \n",
              "  <svg xmlns=\"http://www.w3.org/2000/svg\" height=\"24px\"viewBox=\"0 0 24 24\"\n",
              "       width=\"24px\">\n",
              "    <path d=\"M0 0h24v24H0V0z\" fill=\"none\"/>\n",
              "    <path d=\"M18.56 5.44l.94 2.06.94-2.06 2.06-.94-2.06-.94-.94-2.06-.94 2.06-2.06.94zm-11 1L8.5 8.5l.94-2.06 2.06-.94-2.06-.94L8.5 2.5l-.94 2.06-2.06.94zm10 10l.94 2.06.94-2.06 2.06-.94-2.06-.94-.94-2.06-.94 2.06-2.06.94z\"/><path d=\"M17.41 7.96l-1.37-1.37c-.4-.4-.92-.59-1.43-.59-.52 0-1.04.2-1.43.59L10.3 9.45l-7.72 7.72c-.78.78-.78 2.05 0 2.83L4 21.41c.39.39.9.59 1.41.59.51 0 1.02-.2 1.41-.59l7.78-7.78 2.81-2.81c.8-.78.8-2.07 0-2.86zM5.41 20L4 18.59l7.72-7.72 1.47 1.35L5.41 20z\"/>\n",
              "  </svg>\n",
              "      </button>\n",
              "      \n",
              "  <style>\n",
              "    .colab-df-container {\n",
              "      display:flex;\n",
              "      flex-wrap:wrap;\n",
              "      gap: 12px;\n",
              "    }\n",
              "\n",
              "    .colab-df-convert {\n",
              "      background-color: #E8F0FE;\n",
              "      border: none;\n",
              "      border-radius: 50%;\n",
              "      cursor: pointer;\n",
              "      display: none;\n",
              "      fill: #1967D2;\n",
              "      height: 32px;\n",
              "      padding: 0 0 0 0;\n",
              "      width: 32px;\n",
              "    }\n",
              "\n",
              "    .colab-df-convert:hover {\n",
              "      background-color: #E2EBFA;\n",
              "      box-shadow: 0px 1px 2px rgba(60, 64, 67, 0.3), 0px 1px 3px 1px rgba(60, 64, 67, 0.15);\n",
              "      fill: #174EA6;\n",
              "    }\n",
              "\n",
              "    [theme=dark] .colab-df-convert {\n",
              "      background-color: #3B4455;\n",
              "      fill: #D2E3FC;\n",
              "    }\n",
              "\n",
              "    [theme=dark] .colab-df-convert:hover {\n",
              "      background-color: #434B5C;\n",
              "      box-shadow: 0px 1px 3px 1px rgba(0, 0, 0, 0.15);\n",
              "      filter: drop-shadow(0px 1px 2px rgba(0, 0, 0, 0.3));\n",
              "      fill: #FFFFFF;\n",
              "    }\n",
              "  </style>\n",
              "\n",
              "      <script>\n",
              "        const buttonEl =\n",
              "          document.querySelector('#df-bb1d0e94-3521-4fde-a207-36f970295a03 button.colab-df-convert');\n",
              "        buttonEl.style.display =\n",
              "          google.colab.kernel.accessAllowed ? 'block' : 'none';\n",
              "\n",
              "        async function convertToInteractive(key) {\n",
              "          const element = document.querySelector('#df-bb1d0e94-3521-4fde-a207-36f970295a03');\n",
              "          const dataTable =\n",
              "            await google.colab.kernel.invokeFunction('convertToInteractive',\n",
              "                                                     [key], {});\n",
              "          if (!dataTable) return;\n",
              "\n",
              "          const docLinkHtml = 'Like what you see? Visit the ' +\n",
              "            '<a target=\"_blank\" href=https://colab.research.google.com/notebooks/data_table.ipynb>data table notebook</a>'\n",
              "            + ' to learn more about interactive tables.';\n",
              "          element.innerHTML = '';\n",
              "          dataTable['output_type'] = 'display_data';\n",
              "          await google.colab.output.renderOutput(dataTable, element);\n",
              "          const docLink = document.createElement('div');\n",
              "          docLink.innerHTML = docLinkHtml;\n",
              "          element.appendChild(docLink);\n",
              "        }\n",
              "      </script>\n",
              "    </div>\n",
              "  </div>\n",
              "  "
            ]
          },
          "metadata": {},
          "execution_count": 74
        }
      ]
    },
    {
      "cell_type": "code",
      "source": [
        "df=pd.read_csv('transaction_data.csv')\n",
        "df['CostPerItem'].fillna(df['CostPerItem'].mean(),inplace=True)"
      ],
      "metadata": {
        "id": "JKth8z7EQpa5"
      },
      "execution_count": 77,
      "outputs": []
    },
    {
      "cell_type": "code",
      "source": [
        "df.head()"
      ],
      "metadata": {
        "colab": {
          "base_uri": "https://localhost:8080/",
          "height": 374
        },
        "id": "XDaGNQQFQ8B6",
        "outputId": "71346f62-cd47-4eab-a879-0eaa28aa2361"
      },
      "execution_count": 78,
      "outputs": [
        {
          "output_type": "execute_result",
          "data": {
            "text/plain": [
              "     UserId  TransactionId               TransactionTime  ItemCode  \\\n",
              "0  278166.0        6355745  Sat Feb 02 12:50:00 IST 2019    465549   \n",
              "1  337701.0        6283376  Wed Dec 26 09:06:00 IST 2018    482370   \n",
              "2  267099.0        6385599  Fri Feb 15 09:45:00 IST 2019    490728   \n",
              "3  380478.0        6044973  Fri Jun 22 07:14:00 IST 2018    459186   \n",
              "4  331884.0        6223569  Sun Nov 18 11:14:00 IST 2018    461622   \n",
              "\n",
              "                    ItemDescription  NumberOfItemsPurchased  CostPerItem  \\\n",
              "0  FAMILY ALBUM WHITE PICTURE FRAME                       6    11.730000   \n",
              "1             LONDON BUS COFFEE MUG                       3     3.520000   \n",
              "2                               NaN                      72     0.900000   \n",
              "3       UNION JACK FLAG LUGGAGE TAG                       3     4.887199   \n",
              "4          PACK OF 12 SUKI TISSUES                       72     0.540000   \n",
              "\n",
              "          Country  \n",
              "0  United Kingdom  \n",
              "1  United Kingdom  \n",
              "2          France  \n",
              "3  United Kingdom  \n",
              "4  United Kingdom  "
            ],
            "text/html": [
              "\n",
              "  <div id=\"df-40c4253d-17b8-4ed9-a888-2929e221be52\">\n",
              "    <div class=\"colab-df-container\">\n",
              "      <div>\n",
              "<style scoped>\n",
              "    .dataframe tbody tr th:only-of-type {\n",
              "        vertical-align: middle;\n",
              "    }\n",
              "\n",
              "    .dataframe tbody tr th {\n",
              "        vertical-align: top;\n",
              "    }\n",
              "\n",
              "    .dataframe thead th {\n",
              "        text-align: right;\n",
              "    }\n",
              "</style>\n",
              "<table border=\"1\" class=\"dataframe\">\n",
              "  <thead>\n",
              "    <tr style=\"text-align: right;\">\n",
              "      <th></th>\n",
              "      <th>UserId</th>\n",
              "      <th>TransactionId</th>\n",
              "      <th>TransactionTime</th>\n",
              "      <th>ItemCode</th>\n",
              "      <th>ItemDescription</th>\n",
              "      <th>NumberOfItemsPurchased</th>\n",
              "      <th>CostPerItem</th>\n",
              "      <th>Country</th>\n",
              "    </tr>\n",
              "  </thead>\n",
              "  <tbody>\n",
              "    <tr>\n",
              "      <th>0</th>\n",
              "      <td>278166.0</td>\n",
              "      <td>6355745</td>\n",
              "      <td>Sat Feb 02 12:50:00 IST 2019</td>\n",
              "      <td>465549</td>\n",
              "      <td>FAMILY ALBUM WHITE PICTURE FRAME</td>\n",
              "      <td>6</td>\n",
              "      <td>11.730000</td>\n",
              "      <td>United Kingdom</td>\n",
              "    </tr>\n",
              "    <tr>\n",
              "      <th>1</th>\n",
              "      <td>337701.0</td>\n",
              "      <td>6283376</td>\n",
              "      <td>Wed Dec 26 09:06:00 IST 2018</td>\n",
              "      <td>482370</td>\n",
              "      <td>LONDON BUS COFFEE MUG</td>\n",
              "      <td>3</td>\n",
              "      <td>3.520000</td>\n",
              "      <td>United Kingdom</td>\n",
              "    </tr>\n",
              "    <tr>\n",
              "      <th>2</th>\n",
              "      <td>267099.0</td>\n",
              "      <td>6385599</td>\n",
              "      <td>Fri Feb 15 09:45:00 IST 2019</td>\n",
              "      <td>490728</td>\n",
              "      <td>NaN</td>\n",
              "      <td>72</td>\n",
              "      <td>0.900000</td>\n",
              "      <td>France</td>\n",
              "    </tr>\n",
              "    <tr>\n",
              "      <th>3</th>\n",
              "      <td>380478.0</td>\n",
              "      <td>6044973</td>\n",
              "      <td>Fri Jun 22 07:14:00 IST 2018</td>\n",
              "      <td>459186</td>\n",
              "      <td>UNION JACK FLAG LUGGAGE TAG</td>\n",
              "      <td>3</td>\n",
              "      <td>4.887199</td>\n",
              "      <td>United Kingdom</td>\n",
              "    </tr>\n",
              "    <tr>\n",
              "      <th>4</th>\n",
              "      <td>331884.0</td>\n",
              "      <td>6223569</td>\n",
              "      <td>Sun Nov 18 11:14:00 IST 2018</td>\n",
              "      <td>461622</td>\n",
              "      <td>PACK OF 12 SUKI TISSUES</td>\n",
              "      <td>72</td>\n",
              "      <td>0.540000</td>\n",
              "      <td>United Kingdom</td>\n",
              "    </tr>\n",
              "  </tbody>\n",
              "</table>\n",
              "</div>\n",
              "      <button class=\"colab-df-convert\" onclick=\"convertToInteractive('df-40c4253d-17b8-4ed9-a888-2929e221be52')\"\n",
              "              title=\"Convert this dataframe to an interactive table.\"\n",
              "              style=\"display:none;\">\n",
              "        \n",
              "  <svg xmlns=\"http://www.w3.org/2000/svg\" height=\"24px\"viewBox=\"0 0 24 24\"\n",
              "       width=\"24px\">\n",
              "    <path d=\"M0 0h24v24H0V0z\" fill=\"none\"/>\n",
              "    <path d=\"M18.56 5.44l.94 2.06.94-2.06 2.06-.94-2.06-.94-.94-2.06-.94 2.06-2.06.94zm-11 1L8.5 8.5l.94-2.06 2.06-.94-2.06-.94L8.5 2.5l-.94 2.06-2.06.94zm10 10l.94 2.06.94-2.06 2.06-.94-2.06-.94-.94-2.06-.94 2.06-2.06.94z\"/><path d=\"M17.41 7.96l-1.37-1.37c-.4-.4-.92-.59-1.43-.59-.52 0-1.04.2-1.43.59L10.3 9.45l-7.72 7.72c-.78.78-.78 2.05 0 2.83L4 21.41c.39.39.9.59 1.41.59.51 0 1.02-.2 1.41-.59l7.78-7.78 2.81-2.81c.8-.78.8-2.07 0-2.86zM5.41 20L4 18.59l7.72-7.72 1.47 1.35L5.41 20z\"/>\n",
              "  </svg>\n",
              "      </button>\n",
              "      \n",
              "  <style>\n",
              "    .colab-df-container {\n",
              "      display:flex;\n",
              "      flex-wrap:wrap;\n",
              "      gap: 12px;\n",
              "    }\n",
              "\n",
              "    .colab-df-convert {\n",
              "      background-color: #E8F0FE;\n",
              "      border: none;\n",
              "      border-radius: 50%;\n",
              "      cursor: pointer;\n",
              "      display: none;\n",
              "      fill: #1967D2;\n",
              "      height: 32px;\n",
              "      padding: 0 0 0 0;\n",
              "      width: 32px;\n",
              "    }\n",
              "\n",
              "    .colab-df-convert:hover {\n",
              "      background-color: #E2EBFA;\n",
              "      box-shadow: 0px 1px 2px rgba(60, 64, 67, 0.3), 0px 1px 3px 1px rgba(60, 64, 67, 0.15);\n",
              "      fill: #174EA6;\n",
              "    }\n",
              "\n",
              "    [theme=dark] .colab-df-convert {\n",
              "      background-color: #3B4455;\n",
              "      fill: #D2E3FC;\n",
              "    }\n",
              "\n",
              "    [theme=dark] .colab-df-convert:hover {\n",
              "      background-color: #434B5C;\n",
              "      box-shadow: 0px 1px 3px 1px rgba(0, 0, 0, 0.15);\n",
              "      filter: drop-shadow(0px 1px 2px rgba(0, 0, 0, 0.3));\n",
              "      fill: #FFFFFF;\n",
              "    }\n",
              "  </style>\n",
              "\n",
              "      <script>\n",
              "        const buttonEl =\n",
              "          document.querySelector('#df-40c4253d-17b8-4ed9-a888-2929e221be52 button.colab-df-convert');\n",
              "        buttonEl.style.display =\n",
              "          google.colab.kernel.accessAllowed ? 'block' : 'none';\n",
              "\n",
              "        async function convertToInteractive(key) {\n",
              "          const element = document.querySelector('#df-40c4253d-17b8-4ed9-a888-2929e221be52');\n",
              "          const dataTable =\n",
              "            await google.colab.kernel.invokeFunction('convertToInteractive',\n",
              "                                                     [key], {});\n",
              "          if (!dataTable) return;\n",
              "\n",
              "          const docLinkHtml = 'Like what you see? Visit the ' +\n",
              "            '<a target=\"_blank\" href=https://colab.research.google.com/notebooks/data_table.ipynb>data table notebook</a>'\n",
              "            + ' to learn more about interactive tables.';\n",
              "          element.innerHTML = '';\n",
              "          dataTable['output_type'] = 'display_data';\n",
              "          await google.colab.output.renderOutput(dataTable, element);\n",
              "          const docLink = document.createElement('div');\n",
              "          docLink.innerHTML = docLinkHtml;\n",
              "          element.appendChild(docLink);\n",
              "        }\n",
              "      </script>\n",
              "    </div>\n",
              "  </div>\n",
              "  "
            ]
          },
          "metadata": {},
          "execution_count": 78
        }
      ]
    },
    {
      "cell_type": "code",
      "source": [
        "df1=pd.read_csv('ordered_data.csv')\n",
        "print(pd.merge(df,df1,on='UserId'))"
      ],
      "metadata": {
        "colab": {
          "base_uri": "https://localhost:8080/"
        },
        "id": "UB1PbV98Q9de",
        "outputId": "3a4cf96d-3c03-4454-adeb-9b58d006259d"
      },
      "execution_count": 83,
      "outputs": [
        {
          "output_type": "stream",
          "name": "stdout",
          "text": [
            "      UserId  TransactionId               TransactionTime  ItemCode  \\\n",
            "0   278166.0        6355745  Sat Feb 02 12:50:00 IST 2019    465549   \n",
            "1   278166.0        6088357  Sun Jul 29 08:38:00 IST 2018    487284   \n",
            "2   337701.0        6283376  Wed Dec 26 09:06:00 IST 2018    482370   \n",
            "3   267099.0        6385599  Fri Feb 15 09:45:00 IST 2019    490728   \n",
            "4   380478.0        6044973  Fri Jun 22 07:14:00 IST 2018    459186   \n",
            "5   380478.0        5976399  Sat Apr 21 08:05:00 IST 2018   1784370   \n",
            "6   380478.0        6161375  Wed Sep 26 06:44:00 IST 2018    471303   \n",
            "7   331884.0        6223569  Sun Nov 18 11:14:00 IST 2018    461622   \n",
            "8   335580.0        6031883  Mon Jun 11 11:05:00 IST 2018    476028   \n",
            "9   364308.0        6257163  Tue Dec 11 07:39:00 IST 2018    434028   \n",
            "10  262269.0        5945093  Wed Mar 21 09:13:00 IST 2018    474726   \n",
            "\n",
            "                      ItemDescription  NumberOfItemsPurchased  CostPerItem  \\\n",
            "0    FAMILY ALBUM WHITE PICTURE FRAME                       6    11.730000   \n",
            "1         CHARLOTTE BAG APPLES DESIGN                      30     1.180000   \n",
            "2               LONDON BUS COFFEE MUG                       3     3.520000   \n",
            "3                                 NaN                      72     0.900000   \n",
            "4         UNION JACK FLAG LUGGAGE TAG                       3     4.887199   \n",
            "5   HANGING HEART ZINC T-LIGHT HOLDER                       6     1.180000   \n",
            "6        GROW YOUR OWN HERBS SET OF 3                       3    10.980000   \n",
            "7            PACK OF 12 SUKI TISSUES                       72     0.540000   \n",
            "8                   PINK BABY BUNTING                     150     3.520000   \n",
            "9     DISCO BALL CHRISTMAS DECORATION                      72     4.887199   \n",
            "10         WOODEN SKITTLES GARDEN SET                       6    22.020000   \n",
            "\n",
            "           Country   Name  \n",
            "0   United Kingdom    Raj  \n",
            "1   United Kingdom    Raj  \n",
            "2   United Kingdom   John  \n",
            "3           France   Ravi  \n",
            "4   United Kingdom  Rahul  \n",
            "5   United Kingdom  Rahul  \n",
            "6              USA  Rahul  \n",
            "7   United Kingdom  Akram  \n",
            "8   United Kingdom  Reena  \n",
            "9   United Kingdom  Sumit  \n",
            "10          France   Mark  \n"
          ]
        }
      ]
    },
    {
      "cell_type": "code",
      "source": [
        "df1.head()"
      ],
      "metadata": {
        "colab": {
          "base_uri": "https://localhost:8080/",
          "height": 206
        },
        "id": "urp0NgyKRfL2",
        "outputId": "7ad9f265-a58d-4e50-8e2d-61dfd22e9077"
      },
      "execution_count": 82,
      "outputs": [
        {
          "output_type": "execute_result",
          "data": {
            "text/plain": [
              "   UserId   Name\n",
              "0  278166    Raj\n",
              "1  337701   John\n",
              "2  267099   Ravi\n",
              "3  380478  Rahul\n",
              "4  331884  Akram"
            ],
            "text/html": [
              "\n",
              "  <div id=\"df-73bffcdf-ca62-47d6-b48c-5345a4802fcd\">\n",
              "    <div class=\"colab-df-container\">\n",
              "      <div>\n",
              "<style scoped>\n",
              "    .dataframe tbody tr th:only-of-type {\n",
              "        vertical-align: middle;\n",
              "    }\n",
              "\n",
              "    .dataframe tbody tr th {\n",
              "        vertical-align: top;\n",
              "    }\n",
              "\n",
              "    .dataframe thead th {\n",
              "        text-align: right;\n",
              "    }\n",
              "</style>\n",
              "<table border=\"1\" class=\"dataframe\">\n",
              "  <thead>\n",
              "    <tr style=\"text-align: right;\">\n",
              "      <th></th>\n",
              "      <th>UserId</th>\n",
              "      <th>Name</th>\n",
              "    </tr>\n",
              "  </thead>\n",
              "  <tbody>\n",
              "    <tr>\n",
              "      <th>0</th>\n",
              "      <td>278166</td>\n",
              "      <td>Raj</td>\n",
              "    </tr>\n",
              "    <tr>\n",
              "      <th>1</th>\n",
              "      <td>337701</td>\n",
              "      <td>John</td>\n",
              "    </tr>\n",
              "    <tr>\n",
              "      <th>2</th>\n",
              "      <td>267099</td>\n",
              "      <td>Ravi</td>\n",
              "    </tr>\n",
              "    <tr>\n",
              "      <th>3</th>\n",
              "      <td>380478</td>\n",
              "      <td>Rahul</td>\n",
              "    </tr>\n",
              "    <tr>\n",
              "      <th>4</th>\n",
              "      <td>331884</td>\n",
              "      <td>Akram</td>\n",
              "    </tr>\n",
              "  </tbody>\n",
              "</table>\n",
              "</div>\n",
              "      <button class=\"colab-df-convert\" onclick=\"convertToInteractive('df-73bffcdf-ca62-47d6-b48c-5345a4802fcd')\"\n",
              "              title=\"Convert this dataframe to an interactive table.\"\n",
              "              style=\"display:none;\">\n",
              "        \n",
              "  <svg xmlns=\"http://www.w3.org/2000/svg\" height=\"24px\"viewBox=\"0 0 24 24\"\n",
              "       width=\"24px\">\n",
              "    <path d=\"M0 0h24v24H0V0z\" fill=\"none\"/>\n",
              "    <path d=\"M18.56 5.44l.94 2.06.94-2.06 2.06-.94-2.06-.94-.94-2.06-.94 2.06-2.06.94zm-11 1L8.5 8.5l.94-2.06 2.06-.94-2.06-.94L8.5 2.5l-.94 2.06-2.06.94zm10 10l.94 2.06.94-2.06 2.06-.94-2.06-.94-.94-2.06-.94 2.06-2.06.94z\"/><path d=\"M17.41 7.96l-1.37-1.37c-.4-.4-.92-.59-1.43-.59-.52 0-1.04.2-1.43.59L10.3 9.45l-7.72 7.72c-.78.78-.78 2.05 0 2.83L4 21.41c.39.39.9.59 1.41.59.51 0 1.02-.2 1.41-.59l7.78-7.78 2.81-2.81c.8-.78.8-2.07 0-2.86zM5.41 20L4 18.59l7.72-7.72 1.47 1.35L5.41 20z\"/>\n",
              "  </svg>\n",
              "      </button>\n",
              "      \n",
              "  <style>\n",
              "    .colab-df-container {\n",
              "      display:flex;\n",
              "      flex-wrap:wrap;\n",
              "      gap: 12px;\n",
              "    }\n",
              "\n",
              "    .colab-df-convert {\n",
              "      background-color: #E8F0FE;\n",
              "      border: none;\n",
              "      border-radius: 50%;\n",
              "      cursor: pointer;\n",
              "      display: none;\n",
              "      fill: #1967D2;\n",
              "      height: 32px;\n",
              "      padding: 0 0 0 0;\n",
              "      width: 32px;\n",
              "    }\n",
              "\n",
              "    .colab-df-convert:hover {\n",
              "      background-color: #E2EBFA;\n",
              "      box-shadow: 0px 1px 2px rgba(60, 64, 67, 0.3), 0px 1px 3px 1px rgba(60, 64, 67, 0.15);\n",
              "      fill: #174EA6;\n",
              "    }\n",
              "\n",
              "    [theme=dark] .colab-df-convert {\n",
              "      background-color: #3B4455;\n",
              "      fill: #D2E3FC;\n",
              "    }\n",
              "\n",
              "    [theme=dark] .colab-df-convert:hover {\n",
              "      background-color: #434B5C;\n",
              "      box-shadow: 0px 1px 3px 1px rgba(0, 0, 0, 0.15);\n",
              "      filter: drop-shadow(0px 1px 2px rgba(0, 0, 0, 0.3));\n",
              "      fill: #FFFFFF;\n",
              "    }\n",
              "  </style>\n",
              "\n",
              "      <script>\n",
              "        const buttonEl =\n",
              "          document.querySelector('#df-73bffcdf-ca62-47d6-b48c-5345a4802fcd button.colab-df-convert');\n",
              "        buttonEl.style.display =\n",
              "          google.colab.kernel.accessAllowed ? 'block' : 'none';\n",
              "\n",
              "        async function convertToInteractive(key) {\n",
              "          const element = document.querySelector('#df-73bffcdf-ca62-47d6-b48c-5345a4802fcd');\n",
              "          const dataTable =\n",
              "            await google.colab.kernel.invokeFunction('convertToInteractive',\n",
              "                                                     [key], {});\n",
              "          if (!dataTable) return;\n",
              "\n",
              "          const docLinkHtml = 'Like what you see? Visit the ' +\n",
              "            '<a target=\"_blank\" href=https://colab.research.google.com/notebooks/data_table.ipynb>data table notebook</a>'\n",
              "            + ' to learn more about interactive tables.';\n",
              "          element.innerHTML = '';\n",
              "          dataTable['output_type'] = 'display_data';\n",
              "          await google.colab.output.renderOutput(dataTable, element);\n",
              "          const docLink = document.createElement('div');\n",
              "          docLink.innerHTML = docLinkHtml;\n",
              "          element.appendChild(docLink);\n",
              "        }\n",
              "      </script>\n",
              "    </div>\n",
              "  </div>\n",
              "  "
            ]
          },
          "metadata": {},
          "execution_count": 82
        }
      ]
    },
    {
      "cell_type": "code",
      "source": [
        "print(df.sort_values('CostPerItem',ascending=False))"
      ],
      "metadata": {
        "colab": {
          "base_uri": "https://localhost:8080/"
        },
        "id": "PTjd57KrRuAL",
        "outputId": "39f64ea8-5e4a-472a-c9c6-b38721ce7a17"
      },
      "execution_count": 84,
      "outputs": [
        {
          "output_type": "stream",
          "name": "stdout",
          "text": [
            "       UserId  TransactionId               TransactionTime  ItemCode  \\\n",
            "57       -1.0        6314814  Mon Jan 14 11:33:00 IST 2019   1765638   \n",
            "239  275415.0        6278866  Mon Dec 24 08:42:00 IST 2018   1765638   \n",
            "123      -1.0        5914326  Fri Feb 18 14:36:00 IST 2028    446418   \n",
            "127  266301.0        5970085  Sat Apr 14 11:36:00 IST 2018        -1   \n",
            "93       -1.0        5918781  Tue Feb 20 10:09:00 IST 2018    478317   \n",
            "..        ...            ...                           ...       ...   \n",
            "284  346584.0        6339586  Sat Jan 26 11:18:00 IST 2019    469119   \n",
            "217  329721.0        6202999  Fri Nov 02 08:36:00 IST 2018   1789284   \n",
            "121      -1.0        6108674  Tue Aug 14 07:12:00 IST 2018   1780905   \n",
            "124      -1.0        5914040  Fri Feb 18 11:31:00 IST 2028    445872   \n",
            "214      -1.0        6297863  Sat Jan 05 12:06:00 IST 2019   1782417   \n",
            "\n",
            "                      ItemDescription  NumberOfItemsPurchased  CostPerItem  \\\n",
            "57   SET/4 WHITE RETRO STORAGE CUBES                        3        80.45   \n",
            "239  SET/4 WHITE RETRO STORAGE CUBES                        3        55.14   \n",
            "123        VICTORIAN SEWING BOX LARGE                       3        35.18   \n",
            "127                           POSTAGE                       9        24.84   \n",
            "93                 GLASS CLOCHE LARGE                       3        23.44   \n",
            "..                                ...                     ...          ...   \n",
            "284      CHRISTMAS TREE PAINTED ZINC                       60         0.27   \n",
            "217      HANGING WOOD AND FELT FLOWER                      15         0.17   \n",
            "121                       wet damaged                    -288         0.00   \n",
            "124    STRAWBERRY CERAMIC TRINKET BOX                       3         0.00   \n",
            "214                               NaN                      -3         0.00   \n",
            "\n",
            "            Country  \n",
            "57            India  \n",
            "239  United Kingdom  \n",
            "123           India  \n",
            "127          France  \n",
            "93   United Kingdom  \n",
            "..              ...  \n",
            "284           India  \n",
            "217  United Kingdom  \n",
            "121           India  \n",
            "124           India  \n",
            "214  United Kingdom  \n",
            "\n",
            "[312 rows x 8 columns]\n"
          ]
        }
      ]
    },
    {
      "cell_type": "code",
      "source": [
        "import numpy as np\n",
        "df=pd.read_csv('train_pivot.csv')\n",
        "table=pd.pivot_table(df,index=['Sex','Pclass'],aggfunc={'Age':np.mean,'Survived':np.sum})\n",
        "print(table)"
      ],
      "metadata": {
        "colab": {
          "base_uri": "https://localhost:8080/"
        },
        "id": "WU5emo9ySTOq",
        "outputId": "5d8511d7-3586-483d-9655-bdc3c1b79a12"
      },
      "execution_count": 87,
      "outputs": [
        {
          "output_type": "stream",
          "name": "stdout",
          "text": [
            "                     Age  Survived\n",
            "Sex    Pclass                     \n",
            "female 1       34.611765        91\n",
            "       2       28.722973        70\n",
            "       3       21.750000        72\n",
            "male   1       41.281386        45\n",
            "       2       30.740707        17\n",
            "       3       26.507589        47\n"
          ]
        }
      ]
    },
    {
      "cell_type": "code",
      "source": [
        ""
      ],
      "metadata": {
        "id": "XGBZfgb1TGhV"
      },
      "execution_count": null,
      "outputs": []
    }
  ]
}